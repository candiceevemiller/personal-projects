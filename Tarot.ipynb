{
  "nbformat": 4,
  "nbformat_minor": 0,
  "metadata": {
    "colab": {
      "name": "Tarot.ipynb",
      "provenance": [],
      "authorship_tag": "ABX9TyMjuy3ihajCJc29jHJRir3F",
      "include_colab_link": true
    },
    "kernelspec": {
      "name": "python3",
      "display_name": "Python 3"
    },
    "language_info": {
      "name": "python"
    }
  },
  "cells": [
    {
      "cell_type": "markdown",
      "metadata": {
        "id": "view-in-github",
        "colab_type": "text"
      },
      "source": [
        "<a href=\"https://colab.research.google.com/github/candiceevemiller/personal-projects/blob/main/Tarot.ipynb\" target=\"_parent\"><img src=\"https://colab.research.google.com/assets/colab-badge.svg\" alt=\"Open In Colab\"/></a>"
      ]
    },
    {
      "cell_type": "code",
      "metadata": {
        "id": "WvwSkSCpIqQg"
      },
      "source": [
        "import collections\n",
        "from random import getrandbits\n",
        "\n",
        "Card = collections.namedtuple('Card', ['rank','suit'])\n",
        "\n",
        "class FrenchTarot:\n",
        "  ranks = [str(n) for n in range(1,11)]+['Page','Knight','Queen','King']\n",
        "  suits = 'wands swords coins cups'.split()\n",
        "  major_arcana = ['The Fool', 'The Magician', 'The High Priestess', 'The Empress',\n",
        "                  'The Hierophant', 'The Lovers', 'The Chariot', 'Strength',\n",
        "                  'The Hermit', 'Wheel of Fortune', 'Justice', 'The Hanged Man',\n",
        "                  'Death', 'Temperance', 'The Devil', 'The Tower', 'The Star',\n",
        "                  'The Moon', 'The Sun', 'Judgement', 'The World']\n",
        "\n",
        "  def __init__(self):\n",
        "    self.minor = [Card(rank, suit) for suit in self.suits for rank in self.ranks]\n",
        "    self.major = [Card(rank, 'Major Arcana') for rank in self.major_arcana]\n",
        "    self._cards = self.major + self.minor\n",
        "\n",
        "  def __len__(self):\n",
        "    return len(self._cards)\n",
        "\n",
        "  def __repr__(self):\n",
        "    return f'Tarot Deck containing {len(self)} cards, {len(self.major)} Major Arcana, and {len(self.minor)} Minor Arcana'\n",
        "\n",
        "  def __getitem__(self,position):\n",
        "    if getrandbits(1):\n",
        "      orientation = 'Upright'\n",
        "    else:\n",
        "      orientation = 'Reversed'\n",
        "    return self._cards[position], orientation\n",
        "\n",
        "  def __setitem__(self, position, card):\n",
        "    self._cards[position] = card\n",
        "\n",
        "  def __contains__(self, card):\n",
        "    return card in self._cards"
      ],
      "execution_count": null,
      "outputs": []
    },
    {
      "cell_type": "code",
      "metadata": {
        "id": "kJdEPS-rKqsJ"
      },
      "source": [
        "deck = FrenchTarot()"
      ],
      "execution_count": null,
      "outputs": []
    },
    {
      "cell_type": "code",
      "metadata": {
        "colab": {
          "base_uri": "https://localhost:8080/"
        },
        "id": "s7Q4ODlmWVdg",
        "outputId": "1d0e358a-5357-4b55-8235-ebea8555ee5b"
      },
      "source": [
        "deck"
      ],
      "execution_count": null,
      "outputs": [
        {
          "output_type": "execute_result",
          "data": {
            "text/plain": [
              "Tarot Deck containing 77 cards, 21 Major Arcana, and 56 Minor Arcana"
            ]
          },
          "metadata": {},
          "execution_count": 121
        }
      ]
    },
    {
      "cell_type": "code",
      "metadata": {
        "colab": {
          "base_uri": "https://localhost:8080/"
        },
        "id": "P-x8O62cK8rB",
        "outputId": "1a48805a-bcfb-4be7-da9f-aa42569078a7"
      },
      "source": [
        "from random import choice\n",
        "\n",
        "choice(deck)"
      ],
      "execution_count": null,
      "outputs": [
        {
          "output_type": "execute_result",
          "data": {
            "text/plain": [
              "(Card(rank='2', suit='cups'), 'Reversed')"
            ]
          },
          "metadata": {},
          "execution_count": 124
        }
      ]
    },
    {
      "cell_type": "code",
      "metadata": {
        "colab": {
          "base_uri": "https://localhost:8080/"
        },
        "id": "yXcrtn1oLKrW",
        "outputId": "60b50598-141c-46e7-fa87-6f347048a89b"
      },
      "source": [
        "Card('The Fool', 'Major Arcana') in deck"
      ],
      "execution_count": null,
      "outputs": [
        {
          "output_type": "execute_result",
          "data": {
            "text/plain": [
              "True"
            ]
          },
          "metadata": {},
          "execution_count": 123
        }
      ]
    },
    {
      "cell_type": "code",
      "metadata": {
        "id": "7rpvjgnQSTg4"
      },
      "source": [
        ""
      ],
      "execution_count": null,
      "outputs": []
    }
  ]
}