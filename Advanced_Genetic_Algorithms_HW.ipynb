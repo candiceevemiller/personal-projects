{
  "nbformat": 4,
  "nbformat_minor": 0,
  "metadata": {
    "colab": {
      "name": "Advanced Genetic Algorithms Exercises.ipynb",
      "provenance": [],
      "collapsed_sections": [],
      "include_colab_link": true
    },
    "kernelspec": {
      "name": "python3",
      "display_name": "Python 3"
    }
  },
  "cells": [
    {
      "cell_type": "markdown",
      "metadata": {
        "id": "view-in-github",
        "colab_type": "text"
      },
      "source": [
        "<a href=\"https://colab.research.google.com/github/candiceevemiller/personal-projects/blob/main/Advanced_Genetic_Algorithms_HW.ipynb\" target=\"_parent\"><img src=\"https://colab.research.google.com/assets/colab-badge.svg\" alt=\"Open In Colab\"/></a>"
      ]
    },
    {
      "cell_type": "markdown",
      "metadata": {
        "id": "f2bob0rkENzG"
      },
      "source": [
        "# Imports\n",
        "\n",
        "We'll just quickly import the important libraries"
      ]
    },
    {
      "cell_type": "code",
      "metadata": {
        "id": "dX9lfvLuERs8"
      },
      "source": [
        "import numpy as np\n",
        "import pandas as pd\n",
        "import matplotlib.pyplot as plt"
      ],
      "execution_count": 20,
      "outputs": []
    },
    {
      "cell_type": "markdown",
      "metadata": {
        "id": "HKjvPTrZCelw"
      },
      "source": [
        "# Dataset Generation\n",
        "\n",
        "Here the dataset is generated and an array with (by default) 20 items is created"
      ]
    },
    {
      "cell_type": "code",
      "metadata": {
        "id": "RZxuBp15ChX1"
      },
      "source": [
        "def make_items(n_items=20,limit=40):\n",
        "  n_items # how many items there are that we can put into the backpack \n",
        "  # create an array for value & weight of each item\n",
        "  np.random.seed(42)\n",
        "  items = pd.DataFrame(np.around(np.random.random((n_items,2))*10))\n",
        "\n",
        "  items.columns = [\"Value\",\"Weight\"]\n",
        "  return items,limit"
      ],
      "execution_count": 21,
      "outputs": []
    },
    {
      "cell_type": "code",
      "metadata": {
        "id": "FxtCtJjKD7y3",
        "colab": {
          "base_uri": "https://localhost:8080/",
          "height": 677
        },
        "outputId": "6e1d171a-8c61-4ad6-88a1-93b9a9c3d32d"
      },
      "source": [
        "items, limit = make_items()\n",
        "items"
      ],
      "execution_count": 22,
      "outputs": [
        {
          "output_type": "execute_result",
          "data": {
            "text/html": [
              "\n",
              "  <div id=\"df-255305a2-5833-4999-a1f9-4e81d948341d\">\n",
              "    <div class=\"colab-df-container\">\n",
              "      <div>\n",
              "<style scoped>\n",
              "    .dataframe tbody tr th:only-of-type {\n",
              "        vertical-align: middle;\n",
              "    }\n",
              "\n",
              "    .dataframe tbody tr th {\n",
              "        vertical-align: top;\n",
              "    }\n",
              "\n",
              "    .dataframe thead th {\n",
              "        text-align: right;\n",
              "    }\n",
              "</style>\n",
              "<table border=\"1\" class=\"dataframe\">\n",
              "  <thead>\n",
              "    <tr style=\"text-align: right;\">\n",
              "      <th></th>\n",
              "      <th>Value</th>\n",
              "      <th>Weight</th>\n",
              "    </tr>\n",
              "  </thead>\n",
              "  <tbody>\n",
              "    <tr>\n",
              "      <th>0</th>\n",
              "      <td>4.0</td>\n",
              "      <td>10.0</td>\n",
              "    </tr>\n",
              "    <tr>\n",
              "      <th>1</th>\n",
              "      <td>7.0</td>\n",
              "      <td>6.0</td>\n",
              "    </tr>\n",
              "    <tr>\n",
              "      <th>2</th>\n",
              "      <td>2.0</td>\n",
              "      <td>2.0</td>\n",
              "    </tr>\n",
              "    <tr>\n",
              "      <th>3</th>\n",
              "      <td>1.0</td>\n",
              "      <td>9.0</td>\n",
              "    </tr>\n",
              "    <tr>\n",
              "      <th>4</th>\n",
              "      <td>6.0</td>\n",
              "      <td>7.0</td>\n",
              "    </tr>\n",
              "    <tr>\n",
              "      <th>5</th>\n",
              "      <td>0.0</td>\n",
              "      <td>10.0</td>\n",
              "    </tr>\n",
              "    <tr>\n",
              "      <th>6</th>\n",
              "      <td>8.0</td>\n",
              "      <td>2.0</td>\n",
              "    </tr>\n",
              "    <tr>\n",
              "      <th>7</th>\n",
              "      <td>2.0</td>\n",
              "      <td>2.0</td>\n",
              "    </tr>\n",
              "    <tr>\n",
              "      <th>8</th>\n",
              "      <td>3.0</td>\n",
              "      <td>5.0</td>\n",
              "    </tr>\n",
              "    <tr>\n",
              "      <th>9</th>\n",
              "      <td>4.0</td>\n",
              "      <td>3.0</td>\n",
              "    </tr>\n",
              "    <tr>\n",
              "      <th>10</th>\n",
              "      <td>6.0</td>\n",
              "      <td>1.0</td>\n",
              "    </tr>\n",
              "    <tr>\n",
              "      <th>11</th>\n",
              "      <td>3.0</td>\n",
              "      <td>4.0</td>\n",
              "    </tr>\n",
              "    <tr>\n",
              "      <th>12</th>\n",
              "      <td>5.0</td>\n",
              "      <td>8.0</td>\n",
              "    </tr>\n",
              "    <tr>\n",
              "      <th>13</th>\n",
              "      <td>2.0</td>\n",
              "      <td>5.0</td>\n",
              "    </tr>\n",
              "    <tr>\n",
              "      <th>14</th>\n",
              "      <td>6.0</td>\n",
              "      <td>0.0</td>\n",
              "    </tr>\n",
              "    <tr>\n",
              "      <th>15</th>\n",
              "      <td>6.0</td>\n",
              "      <td>2.0</td>\n",
              "    </tr>\n",
              "    <tr>\n",
              "      <th>16</th>\n",
              "      <td>1.0</td>\n",
              "      <td>9.0</td>\n",
              "    </tr>\n",
              "    <tr>\n",
              "      <th>17</th>\n",
              "      <td>10.0</td>\n",
              "      <td>8.0</td>\n",
              "    </tr>\n",
              "    <tr>\n",
              "      <th>18</th>\n",
              "      <td>3.0</td>\n",
              "      <td>1.0</td>\n",
              "    </tr>\n",
              "    <tr>\n",
              "      <th>19</th>\n",
              "      <td>7.0</td>\n",
              "      <td>4.0</td>\n",
              "    </tr>\n",
              "  </tbody>\n",
              "</table>\n",
              "</div>\n",
              "      <button class=\"colab-df-convert\" onclick=\"convertToInteractive('df-255305a2-5833-4999-a1f9-4e81d948341d')\"\n",
              "              title=\"Convert this dataframe to an interactive table.\"\n",
              "              style=\"display:none;\">\n",
              "        \n",
              "  <svg xmlns=\"http://www.w3.org/2000/svg\" height=\"24px\"viewBox=\"0 0 24 24\"\n",
              "       width=\"24px\">\n",
              "    <path d=\"M0 0h24v24H0V0z\" fill=\"none\"/>\n",
              "    <path d=\"M18.56 5.44l.94 2.06.94-2.06 2.06-.94-2.06-.94-.94-2.06-.94 2.06-2.06.94zm-11 1L8.5 8.5l.94-2.06 2.06-.94-2.06-.94L8.5 2.5l-.94 2.06-2.06.94zm10 10l.94 2.06.94-2.06 2.06-.94-2.06-.94-.94-2.06-.94 2.06-2.06.94z\"/><path d=\"M17.41 7.96l-1.37-1.37c-.4-.4-.92-.59-1.43-.59-.52 0-1.04.2-1.43.59L10.3 9.45l-7.72 7.72c-.78.78-.78 2.05 0 2.83L4 21.41c.39.39.9.59 1.41.59.51 0 1.02-.2 1.41-.59l7.78-7.78 2.81-2.81c.8-.78.8-2.07 0-2.86zM5.41 20L4 18.59l7.72-7.72 1.47 1.35L5.41 20z\"/>\n",
              "  </svg>\n",
              "      </button>\n",
              "      \n",
              "  <style>\n",
              "    .colab-df-container {\n",
              "      display:flex;\n",
              "      flex-wrap:wrap;\n",
              "      gap: 12px;\n",
              "    }\n",
              "\n",
              "    .colab-df-convert {\n",
              "      background-color: #E8F0FE;\n",
              "      border: none;\n",
              "      border-radius: 50%;\n",
              "      cursor: pointer;\n",
              "      display: none;\n",
              "      fill: #1967D2;\n",
              "      height: 32px;\n",
              "      padding: 0 0 0 0;\n",
              "      width: 32px;\n",
              "    }\n",
              "\n",
              "    .colab-df-convert:hover {\n",
              "      background-color: #E2EBFA;\n",
              "      box-shadow: 0px 1px 2px rgba(60, 64, 67, 0.3), 0px 1px 3px 1px rgba(60, 64, 67, 0.15);\n",
              "      fill: #174EA6;\n",
              "    }\n",
              "\n",
              "    [theme=dark] .colab-df-convert {\n",
              "      background-color: #3B4455;\n",
              "      fill: #D2E3FC;\n",
              "    }\n",
              "\n",
              "    [theme=dark] .colab-df-convert:hover {\n",
              "      background-color: #434B5C;\n",
              "      box-shadow: 0px 1px 3px 1px rgba(0, 0, 0, 0.15);\n",
              "      filter: drop-shadow(0px 1px 2px rgba(0, 0, 0, 0.3));\n",
              "      fill: #FFFFFF;\n",
              "    }\n",
              "  </style>\n",
              "\n",
              "      <script>\n",
              "        const buttonEl =\n",
              "          document.querySelector('#df-255305a2-5833-4999-a1f9-4e81d948341d button.colab-df-convert');\n",
              "        buttonEl.style.display =\n",
              "          google.colab.kernel.accessAllowed ? 'block' : 'none';\n",
              "\n",
              "        async function convertToInteractive(key) {\n",
              "          const element = document.querySelector('#df-255305a2-5833-4999-a1f9-4e81d948341d');\n",
              "          const dataTable =\n",
              "            await google.colab.kernel.invokeFunction('convertToInteractive',\n",
              "                                                     [key], {});\n",
              "          if (!dataTable) return;\n",
              "\n",
              "          const docLinkHtml = 'Like what you see? Visit the ' +\n",
              "            '<a target=\"_blank\" href=https://colab.research.google.com/notebooks/data_table.ipynb>data table notebook</a>'\n",
              "            + ' to learn more about interactive tables.';\n",
              "          element.innerHTML = '';\n",
              "          dataTable['output_type'] = 'display_data';\n",
              "          await google.colab.output.renderOutput(dataTable, element);\n",
              "          const docLink = document.createElement('div');\n",
              "          docLink.innerHTML = docLinkHtml;\n",
              "          element.appendChild(docLink);\n",
              "        }\n",
              "      </script>\n",
              "    </div>\n",
              "  </div>\n",
              "  "
            ],
            "text/plain": [
              "    Value  Weight\n",
              "0     4.0    10.0\n",
              "1     7.0     6.0\n",
              "2     2.0     2.0\n",
              "3     1.0     9.0\n",
              "4     6.0     7.0\n",
              "5     0.0    10.0\n",
              "6     8.0     2.0\n",
              "7     2.0     2.0\n",
              "8     3.0     5.0\n",
              "9     4.0     3.0\n",
              "10    6.0     1.0\n",
              "11    3.0     4.0\n",
              "12    5.0     8.0\n",
              "13    2.0     5.0\n",
              "14    6.0     0.0\n",
              "15    6.0     2.0\n",
              "16    1.0     9.0\n",
              "17   10.0     8.0\n",
              "18    3.0     1.0\n",
              "19    7.0     4.0"
            ]
          },
          "metadata": {},
          "execution_count": 22
        }
      ]
    },
    {
      "cell_type": "markdown",
      "metadata": {
        "id": "mTT4SigSQ6I7"
      },
      "source": [
        "# Exercises"
      ]
    },
    {
      "cell_type": "markdown",
      "metadata": {
        "id": "Z7dwjB42Q8Kn"
      },
      "source": [
        "- Here we will continue from your last notebook and we have 3 new functions to write:\n",
        "\n",
        "\n",
        "- Roulette Wheel selection (select survivors based on the rouletter wheel selection as discussed in the lecture)\n",
        "- 1 Point crossover (make the reproduction method used two parents to create a child)\n",
        "- Mutation probability decay (make the mutation probability decay over time\n",
        "- Integrate your functions into the evolve() function"
      ]
    },
    {
      "cell_type": "code",
      "metadata": {
        "id": "KTtMZ1RaR8NX",
        "colab": {
          "base_uri": "https://localhost:8080/",
          "height": 316
        },
        "outputId": "bdd1ce47-0864-40dd-f6f4-b19b059ccbae"
      },
      "source": [
        "##### Answers go here\n",
        "def make_chromosome(chromosome_length):\n",
        "  return np.around(np.random.random(chromosome_length))\n",
        "\n",
        "def create_starting_population(chromosome_length, pop_size):\n",
        "  return [make_chromosome(chromosome_length) for i in range(pop_size)]\n",
        "\n",
        "population = create_starting_population(len(items), 100)\n",
        "\n",
        "def get_phenotype(individual, items):\n",
        "  filter = [np.concatenate(([individual],[individual]), axis=0).T==1]\n",
        "  return np.sum(np.array(items.values*filter).reshape(len(items),-1), axis=0)\n",
        "\n",
        "def score(individual, items):\n",
        "  value, weights = get_phenotype(individual, items)\n",
        "  score = value\n",
        "  if weights > limit:\n",
        "    score = -100\n",
        "  return score\n",
        "\n",
        "def score_pop(population, items):\n",
        "  scores = []\n",
        "  for individual in population:\n",
        "    scores.append(score(individual, items))\n",
        "  return scores\n",
        "\n",
        "def sort_population(population, items):\n",
        "  score_list = score_pop(population, items)\n",
        "  sorted_pop = []\n",
        "  sorted_indices = [x for y, x in sorted(zip(score_list, np.arange(len(score_list))))]\n",
        "  for i in sorted_indices:\n",
        "    sorted_pop.append(population[i].copy())\n",
        "  return list(reversed(sorted_pop))\n",
        "\n",
        "def reproduce(population):\n",
        "  new_gen = population[:len(population)//2].copy()*2\n",
        "  return new_gen\n",
        "\n",
        "def mutate(population, probability):\n",
        "  for i in range(len(population)):\n",
        "    for ii in range(len(population[i])):\n",
        "      if np.random.rand() < probability:\n",
        "        population[i][ii] = np.abs(population[i][ii]-1)\n",
        "  return population\n",
        "\n",
        "def roulette_wheel(population, items, bias=3):\n",
        "  sorted_pop = sort_population(population,items)\n",
        "  scores = score_pop(sorted_pop,items)\n",
        "  scores = list(np.array(scores)**(2**bias+1))\n",
        "  integrated_scores = [np.sum(scores[:i]-np.min(scores)) for i in range(len(scores))]\n",
        "  integrated_scores = integrated_scores / integrated_scores[-1]\n",
        "  draws = []\n",
        "  for i in range(len(population)):\n",
        "    draw = np.random.rand()\n",
        "    for ii in reversed(range(len(integrated_scores))):\n",
        "      if draw > integrated_scores[ii]:\n",
        "        draws.append(ii)\n",
        "  return draws\n",
        "\n",
        "def evolve(generations, n_items, pop_size, mut_rate):\n",
        "  items, limit = make_items(n_items)\n",
        "\n",
        "  top_10_fitness = []\n",
        "  average_fitness = []\n",
        "  top_fitness = []\n",
        "\n",
        "  population = create_starting_population(n_items,pop_size)\n",
        "\n",
        "  for i in range(generations):\n",
        "    sorted_pop = sort_population(population,items)\n",
        "\n",
        "    scores = score_pop(sorted_pop,items)\n",
        "    top_10_fitness.append(np.average(scores[:10]))\n",
        "    average_fitness.append(np.average(scores))\n",
        "    top_fitness.append(np.average(scores[0]))\n",
        "\n",
        "    new_population = reproduce(sorted_pop)\n",
        "    new_population = mutate(new_population,mut_rate)\n",
        "    population = new_population\n",
        "  plt.plot(top_10_fitness,label=\"Highest 10%\")\n",
        "  plt.plot(average_fitness,label=\"average\")\n",
        "  plt.plot(top_fitness,label=\"Highest\")\n",
        "  plt.title(\"Fitness Over Time\")\n",
        "  plt.legend()\n",
        "  plt.plot()\n",
        "  plt.show()\n",
        "  sorted_pop = sort_population(population,items)\n",
        "  return sorted_pop,items\n",
        "\n",
        "population, items = evolve(100,30,100,0.001)\n",
        "print(population[0])"
      ],
      "execution_count": 23,
      "outputs": [
        {
          "output_type": "display_data",
          "data": {
            "image/png": "[encoded data removed]",
            "text/plain": [
              "<Figure size 432x288 with 1 Axes>"
            ]
          },
          "metadata": {
            "needs_background": "light"
          }
        },
        {
          "output_type": "stream",
          "name": "stdout",
          "text": [
            "[0. 0. 1. 0. 0. 0. 0. 1. 0. 1. 1. 1. 0. 0. 1. 1. 0. 0. 1. 1. 0. 0. 0. 0.\n",
            " 1. 1. 1. 0. 1. 0.]\n"
          ]
        }
      ]
    },
    {
      "cell_type": "markdown",
      "metadata": {
        "id": "OE9BY2bkQysS"
      },
      "source": [
        "# Solutions (Genetic Algorithms 1)"
      ]
    },
    {
      "cell_type": "markdown",
      "metadata": {
        "id": "KoMj2CcrCYY-"
      },
      "source": [
        "Let's start by creating a chromosome. This will be an array of random ones and zeros as discussed in the lecture."
      ]
    },
    {
      "cell_type": "code",
      "metadata": {
        "id": "eqYgkE9qCUye"
      },
      "source": [
        "def make_chromosome(chromosome_length):\n",
        "  return np.around(np.random.random(chromosome_length))"
      ],
      "execution_count": 24,
      "outputs": []
    },
    {
      "cell_type": "markdown",
      "metadata": {
        "id": "2pe7BH4VFcB5"
      },
      "source": [
        "Once that is done we should be able to create the genome for one of our individuals."
      ]
    },
    {
      "cell_type": "code",
      "metadata": {
        "colab": {
          "base_uri": "https://localhost:8080/"
        },
        "id": "5aE8UmVHEyBo",
        "outputId": "ea4f659a-9099-4515-efe3-52dbca03d912"
      },
      "source": [
        "chromosome = make_chromosome(len(items))\n",
        "chromosome"
      ],
      "execution_count": 25,
      "outputs": [
        {
          "output_type": "execute_result",
          "data": {
            "text/plain": [
              "array([1., 0., 0., 1., 0., 1., 1., 0., 0., 0., 0., 1., 1., 0., 1., 0., 1.,\n",
              "       0., 0., 0., 0., 1., 0., 0., 0., 0., 1., 0., 0., 1.])"
            ]
          },
          "metadata": {},
          "execution_count": 25
        }
      ]
    },
    {
      "cell_type": "markdown",
      "metadata": {
        "id": "s10cCLATLU7b"
      },
      "source": [
        "Now, with a simple loop we can use the function to create the whole starting generation "
      ]
    },
    {
      "cell_type": "code",
      "metadata": {
        "id": "GSIqAiWTE0Bj"
      },
      "source": [
        "def create_starting_population(chromosome_length, population_size):\n",
        "  return [make_chromosome(chromosome_length) for i in range(population_size)]"
      ],
      "execution_count": 26,
      "outputs": []
    },
    {
      "cell_type": "markdown",
      "metadata": {
        "id": "3AH3HvM5FV5p"
      },
      "source": [
        "That will look as follows:"
      ]
    },
    {
      "cell_type": "code",
      "metadata": {
        "id": "2Or4YvJ-FNks"
      },
      "source": [
        "population = create_starting_population(len(items),100)"
      ],
      "execution_count": 27,
      "outputs": []
    },
    {
      "cell_type": "markdown",
      "metadata": {
        "id": "isrQfJQGGGCi"
      },
      "source": [
        "Now we need a function to go from genotype to phenotype (how much weight & value does the gene represent). That will be needed in order to assign a score to the individual."
      ]
    },
    {
      "cell_type": "code",
      "metadata": {
        "id": "3QoLxw4BGNPv"
      },
      "source": [
        "def get_phenotype(individual, items):\n",
        "  filter = [np.concatenate(([individual],[individual]),axis=0).T==1]\n",
        "  return np.sum(np.array(items.values*filter).reshape(len(items),-1),axis=0)"
      ],
      "execution_count": 28,
      "outputs": []
    },
    {
      "cell_type": "code",
      "metadata": {
        "id": "rPPt3GZRG_nb"
      },
      "source": [
        " value, weight = get_phenotype(chromosome,items)"
      ],
      "execution_count": 29,
      "outputs": []
    },
    {
      "cell_type": "markdown",
      "metadata": {
        "id": "042yHKevFvzh"
      },
      "source": [
        "Now we need our scoring function that allows us to check how well each individual is doing. "
      ]
    },
    {
      "cell_type": "code",
      "metadata": {
        "id": "Ahpxp_71FQIo"
      },
      "source": [
        "def score(individual, items):\n",
        "  value, weights = get_phenotype(individual, items)\n",
        "  score = value\n",
        "  if weights > limit:\n",
        "    score-=100\n",
        "  return score"
      ],
      "execution_count": 30,
      "outputs": []
    },
    {
      "cell_type": "markdown",
      "metadata": {
        "id": "VsMej5jlM8uq"
      },
      "source": [
        "Let's simply expand that to the entire population!"
      ]
    },
    {
      "cell_type": "code",
      "metadata": {
        "id": "Z4yT7PirM4fR"
      },
      "source": [
        "def score_population(population, items):\n",
        "  scores = []\n",
        "  for individual in population:\n",
        "    scores.append(score(individual, items))\n",
        "  return scores"
      ],
      "execution_count": 31,
      "outputs": []
    },
    {
      "cell_type": "markdown",
      "metadata": {
        "id": "gxdixyCmOrZs"
      },
      "source": [
        "And then write a function that can sort the population based on it's scores"
      ]
    },
    {
      "cell_type": "code",
      "metadata": {
        "id": "WJJ1T7ckOwtA"
      },
      "source": [
        "def sort_population(population, items):\n",
        "  score_list = score_population(population,items)\n",
        "  sorted_population = []\n",
        "  sorted_indices = [x for y, x in sorted(zip(score_list, np.arange(len(score_list))))]\n",
        "  for i in sorted_indices:\n",
        "    sorted_population.append(population[i].copy())\n",
        "  return list(reversed(sorted_population))"
      ],
      "execution_count": 32,
      "outputs": []
    },
    {
      "cell_type": "markdown",
      "metadata": {
        "id": "8R2091ZSQ4Bc"
      },
      "source": [
        "Finally, we will 'kill' half of our individuals and duplicate the other half"
      ]
    },
    {
      "cell_type": "code",
      "metadata": {
        "id": "s5tG-A1eQcA4"
      },
      "source": [
        "def reproduce(population):\n",
        "  n_individuals = len(population)\n",
        "  new_generation = population[:n_individuals//2].copy()+population[:n_individuals//2].copy()\n",
        "  return new_generation"
      ],
      "execution_count": 33,
      "outputs": []
    },
    {
      "cell_type": "markdown",
      "metadata": {
        "id": "r9xW9olbL428"
      },
      "source": [
        "Lastly, we write our mutation function that randomly flips 0s to 1s with a given probability"
      ]
    },
    {
      "cell_type": "code",
      "metadata": {
        "id": "S_ErcdgZRVdk"
      },
      "source": [
        "def mutate(population,probability):\n",
        "  for i in range(len(population)):\n",
        "    for ii in range(len(population[i])):\n",
        "      random_number = np.random.rand()\n",
        "      if random_number<probability:\n",
        "        population[i][ii] = np.abs(population[i][ii]-1)\n",
        "  return population"
      ],
      "execution_count": 34,
      "outputs": []
    },
    {
      "cell_type": "markdown",
      "metadata": {
        "id": "sei-7nO2SZcO"
      },
      "source": [
        "In the end we can put everything together into a single for loop that executes the genetic algorithm. We will store average score, average score of the top 10% and highest score so that we can use it to plot a graph of how our population evolved in the end!"
      ]
    },
    {
      "cell_type": "code",
      "metadata": {
        "id": "YUicLmQBSbPd"
      },
      "source": [
        "\n",
        "def evolve(generations, n_items, limit, population_size, mutation_rate):\n",
        "  items, limit = make_items(n_items)\n",
        "\n",
        "  top_10_fitness = []\n",
        "  average_fitness = []\n",
        "  top_fitness = []\n",
        "\n",
        "  population = create_starting_population(n_items,population_size)\n",
        "\n",
        "  for i in range(generations):\n",
        "    sorted_population = sort_population(population,items)\n",
        "\n",
        "    scores = score_population(sorted_population,items)\n",
        "    top_10_fitness.append(np.average(scores[:10]))\n",
        "    average_fitness.append(np.average(scores))\n",
        "    top_fitness.append(np.average(scores[0]))\n",
        "\n",
        "    new_population = reproduce(sorted_population)\n",
        "    new_population = mutate(new_population,mutation_rate)\n",
        "    population = new_population\n",
        "  plt.plot(top_10_fitness,label=\"Highest 10%\")\n",
        "  plt.plot(average_fitness,label=\"average\")\n",
        "  plt.plot(top_fitness,label=\"Highest\")\n",
        "  plt.title(\"Fitness over time\")\n",
        "  plt.legend()\n",
        "  plt.plot()\n",
        "\n",
        "  sorted_population = sort_population(population,items)\n",
        "  return sorted_population,items"
      ],
      "execution_count": 35,
      "outputs": []
    },
    {
      "cell_type": "code",
      "metadata": {
        "colab": {
          "base_uri": "https://localhost:8080/",
          "height": 281
        },
        "id": "hCvrrPXEPGQL",
        "outputId": "028538d9-6503-41ee-ef38-f959db0369e0"
      },
      "source": [
        "population, items = evolve(100,30,40,100,0.02)"
      ],
      "execution_count": 36,
      "outputs": [
        {
          "output_type": "display_data",
          "data": {
            "image/png": "[encoded data removed]",
            "text/plain": [
              "<Figure size 432x288 with 1 Axes>"
            ]
          },
          "metadata": {
            "needs_background": "light"
          }
        }
      ]
    },
    {
      "cell_type": "markdown",
      "metadata": {
        "id": "coISGdN7Oq2n"
      },
      "source": [
        "As we can see, the genetic algorithm is learning over time - towards the end the mutation rate is too high so that the line is a bit 'fuzzy' if we let is run with a lower mutation rate:"
      ]
    },
    {
      "cell_type": "code",
      "metadata": {
        "colab": {
          "base_uri": "https://localhost:8080/",
          "height": 281
        },
        "id": "5zMajItyPx_8",
        "outputId": "9f964aba-26c4-446f-fca3-77a645be27ca"
      },
      "source": [
        "population,items = evolve(100,30,40,100,0.005)\n"
      ],
      "execution_count": 37,
      "outputs": [
        {
          "output_type": "display_data",
          "data": {
            "image/png": "[encoded data removed]",
            "text/plain": [
              "<Figure size 432x288 with 1 Axes>"
            ]
          },
          "metadata": {
            "needs_background": "light"
          }
        }
      ]
    },
    {
      "cell_type": "markdown",
      "metadata": {
        "id": "gn-vukgLP2I-"
      },
      "source": [
        "With a higher mutation rate our solution becomes 'good' faster but the score keeps going up and down since the are many negative mutations. With a very low mutation rate the average score is much higher and the highest score is more consistent at the expense of using more epochs. Once we achieve an optimum we stay there, but it takes quite long to actually get there"
      ]
    },
    {
      "cell_type": "code",
      "metadata": {
        "colab": {
          "base_uri": "https://localhost:8080/"
        },
        "id": "qwALXgVGSE7Z",
        "outputId": "a9e000d6-3add-4aa8-85e1-1d0b5ecbf861"
      },
      "source": [
        "# Now let's see what items our winner is taking:\n",
        "\n",
        "items,limit = make_items(30)\n",
        "\n",
        "filter = [np.concatenate(([population[0]],[population[0]]),axis=0).T==1]\n",
        "np.array(items.values*filter).reshape(len(items),-1)"
      ],
      "execution_count": 38,
      "outputs": [
        {
          "output_type": "execute_result",
          "data": {
            "text/plain": [
              "array([[ 0.,  0.],\n",
              "       [ 0.,  0.],\n",
              "       [ 2.,  2.],\n",
              "       [ 0.,  0.],\n",
              "       [ 0.,  0.],\n",
              "       [ 0.,  0.],\n",
              "       [ 8.,  2.],\n",
              "       [ 0.,  0.],\n",
              "       [ 0.,  0.],\n",
              "       [ 4.,  3.],\n",
              "       [ 6.,  1.],\n",
              "       [ 3.,  4.],\n",
              "       [ 0.,  0.],\n",
              "       [ 0.,  0.],\n",
              "       [ 6.,  0.],\n",
              "       [ 6.,  2.],\n",
              "       [ 0.,  0.],\n",
              "       [ 0.,  0.],\n",
              "       [ 3.,  1.],\n",
              "       [ 7.,  4.],\n",
              "       [ 0.,  0.],\n",
              "       [ 0.,  0.],\n",
              "       [ 0.,  0.],\n",
              "       [ 0.,  0.],\n",
              "       [ 5.,  2.],\n",
              "       [10.,  8.],\n",
              "       [ 9.,  9.],\n",
              "       [ 0.,  0.],\n",
              "       [ 1.,  2.],\n",
              "       [ 0.,  0.]])"
            ]
          },
          "metadata": {},
          "execution_count": 38
        }
      ]
    },
    {
      "cell_type": "markdown",
      "metadata": {
        "id": "AozSXQ_6VkT7"
      },
      "source": [
        "And as we can see the winner takes items with a weight of 39 with it and a value of 71 (in my run - yours may differ)"
      ]
    }
  ]
}