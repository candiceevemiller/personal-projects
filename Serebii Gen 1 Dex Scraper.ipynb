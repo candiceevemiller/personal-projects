{
 "cells": [
  {
   "cell_type": "code",
   "execution_count": 1,
   "id": "a220618f",
   "metadata": {},
   "outputs": [],
   "source": [
    "import requests\n",
    "from bs4 import BeautifulSoup\n",
    "import re\n",
    "import pandas as pd"
   ]
  },
  {
   "cell_type": "code",
   "execution_count": 2,
   "id": "9170902b",
   "metadata": {},
   "outputs": [],
   "source": [
    "root_url = 'https://serebii.net/pokedex/'"
   ]
  },
  {
   "cell_type": "code",
   "execution_count": 3,
   "id": "39722511",
   "metadata": {},
   "outputs": [],
   "source": [
    "page_urls = []\n",
    "for num in range(1,152):\n",
    "    if num < 10:\n",
    "        page_urls.append(root_url+'00'+str(num)+'.shtml')\n",
    "    elif num < 100:\n",
    "        page_urls.append(root_url+'0'+str(num)+'.shtml')\n",
    "    else:\n",
    "        page_urls.append(root_url+str(num)+'.shtml')"
   ]
  },
  {
   "cell_type": "code",
   "execution_count": 4,
   "id": "a2d2bc3a",
   "metadata": {},
   "outputs": [
    {
     "name": "stdout",
     "output_type": "stream",
     "text": [
      "['https://serebii.net/pokedex/001.shtml', 'https://serebii.net/pokedex/002.shtml', 'https://serebii.net/pokedex/003.shtml', 'https://serebii.net/pokedex/004.shtml', 'https://serebii.net/pokedex/005.shtml', 'https://serebii.net/pokedex/006.shtml', 'https://serebii.net/pokedex/007.shtml', 'https://serebii.net/pokedex/008.shtml', 'https://serebii.net/pokedex/009.shtml', 'https://serebii.net/pokedex/010.shtml', 'https://serebii.net/pokedex/011.shtml', 'https://serebii.net/pokedex/012.shtml', 'https://serebii.net/pokedex/013.shtml', 'https://serebii.net/pokedex/014.shtml', 'https://serebii.net/pokedex/015.shtml', 'https://serebii.net/pokedex/016.shtml', 'https://serebii.net/pokedex/017.shtml', 'https://serebii.net/pokedex/018.shtml', 'https://serebii.net/pokedex/019.shtml', 'https://serebii.net/pokedex/020.shtml', 'https://serebii.net/pokedex/021.shtml', 'https://serebii.net/pokedex/022.shtml', 'https://serebii.net/pokedex/023.shtml', 'https://serebii.net/pokedex/024.shtml', 'https://serebii.net/pokedex/025.shtml', 'https://serebii.net/pokedex/026.shtml', 'https://serebii.net/pokedex/027.shtml', 'https://serebii.net/pokedex/028.shtml', 'https://serebii.net/pokedex/029.shtml', 'https://serebii.net/pokedex/030.shtml', 'https://serebii.net/pokedex/031.shtml', 'https://serebii.net/pokedex/032.shtml', 'https://serebii.net/pokedex/033.shtml', 'https://serebii.net/pokedex/034.shtml', 'https://serebii.net/pokedex/035.shtml', 'https://serebii.net/pokedex/036.shtml', 'https://serebii.net/pokedex/037.shtml', 'https://serebii.net/pokedex/038.shtml', 'https://serebii.net/pokedex/039.shtml', 'https://serebii.net/pokedex/040.shtml', 'https://serebii.net/pokedex/041.shtml', 'https://serebii.net/pokedex/042.shtml', 'https://serebii.net/pokedex/043.shtml', 'https://serebii.net/pokedex/044.shtml', 'https://serebii.net/pokedex/045.shtml', 'https://serebii.net/pokedex/046.shtml', 'https://serebii.net/pokedex/047.shtml', 'https://serebii.net/pokedex/048.shtml', 'https://serebii.net/pokedex/049.shtml', 'https://serebii.net/pokedex/050.shtml', 'https://serebii.net/pokedex/051.shtml', 'https://serebii.net/pokedex/052.shtml', 'https://serebii.net/pokedex/053.shtml', 'https://serebii.net/pokedex/054.shtml', 'https://serebii.net/pokedex/055.shtml', 'https://serebii.net/pokedex/056.shtml', 'https://serebii.net/pokedex/057.shtml', 'https://serebii.net/pokedex/058.shtml', 'https://serebii.net/pokedex/059.shtml', 'https://serebii.net/pokedex/060.shtml', 'https://serebii.net/pokedex/061.shtml', 'https://serebii.net/pokedex/062.shtml', 'https://serebii.net/pokedex/063.shtml', 'https://serebii.net/pokedex/064.shtml', 'https://serebii.net/pokedex/065.shtml', 'https://serebii.net/pokedex/066.shtml', 'https://serebii.net/pokedex/067.shtml', 'https://serebii.net/pokedex/068.shtml', 'https://serebii.net/pokedex/069.shtml', 'https://serebii.net/pokedex/070.shtml', 'https://serebii.net/pokedex/071.shtml', 'https://serebii.net/pokedex/072.shtml', 'https://serebii.net/pokedex/073.shtml', 'https://serebii.net/pokedex/074.shtml', 'https://serebii.net/pokedex/075.shtml', 'https://serebii.net/pokedex/076.shtml', 'https://serebii.net/pokedex/077.shtml', 'https://serebii.net/pokedex/078.shtml', 'https://serebii.net/pokedex/079.shtml', 'https://serebii.net/pokedex/080.shtml', 'https://serebii.net/pokedex/081.shtml', 'https://serebii.net/pokedex/082.shtml', 'https://serebii.net/pokedex/083.shtml', 'https://serebii.net/pokedex/084.shtml', 'https://serebii.net/pokedex/085.shtml', 'https://serebii.net/pokedex/086.shtml', 'https://serebii.net/pokedex/087.shtml', 'https://serebii.net/pokedex/088.shtml', 'https://serebii.net/pokedex/089.shtml', 'https://serebii.net/pokedex/090.shtml', 'https://serebii.net/pokedex/091.shtml', 'https://serebii.net/pokedex/092.shtml', 'https://serebii.net/pokedex/093.shtml', 'https://serebii.net/pokedex/094.shtml', 'https://serebii.net/pokedex/095.shtml', 'https://serebii.net/pokedex/096.shtml', 'https://serebii.net/pokedex/097.shtml', 'https://serebii.net/pokedex/098.shtml', 'https://serebii.net/pokedex/099.shtml', 'https://serebii.net/pokedex/100.shtml', 'https://serebii.net/pokedex/101.shtml', 'https://serebii.net/pokedex/102.shtml', 'https://serebii.net/pokedex/103.shtml', 'https://serebii.net/pokedex/104.shtml', 'https://serebii.net/pokedex/105.shtml', 'https://serebii.net/pokedex/106.shtml', 'https://serebii.net/pokedex/107.shtml', 'https://serebii.net/pokedex/108.shtml', 'https://serebii.net/pokedex/109.shtml', 'https://serebii.net/pokedex/110.shtml', 'https://serebii.net/pokedex/111.shtml', 'https://serebii.net/pokedex/112.shtml', 'https://serebii.net/pokedex/113.shtml', 'https://serebii.net/pokedex/114.shtml', 'https://serebii.net/pokedex/115.shtml', 'https://serebii.net/pokedex/116.shtml', 'https://serebii.net/pokedex/117.shtml', 'https://serebii.net/pokedex/118.shtml', 'https://serebii.net/pokedex/119.shtml', 'https://serebii.net/pokedex/120.shtml', 'https://serebii.net/pokedex/121.shtml', 'https://serebii.net/pokedex/122.shtml', 'https://serebii.net/pokedex/123.shtml', 'https://serebii.net/pokedex/124.shtml', 'https://serebii.net/pokedex/125.shtml', 'https://serebii.net/pokedex/126.shtml', 'https://serebii.net/pokedex/127.shtml', 'https://serebii.net/pokedex/128.shtml', 'https://serebii.net/pokedex/129.shtml', 'https://serebii.net/pokedex/130.shtml', 'https://serebii.net/pokedex/131.shtml', 'https://serebii.net/pokedex/132.shtml', 'https://serebii.net/pokedex/133.shtml', 'https://serebii.net/pokedex/134.shtml', 'https://serebii.net/pokedex/135.shtml', 'https://serebii.net/pokedex/136.shtml', 'https://serebii.net/pokedex/137.shtml', 'https://serebii.net/pokedex/138.shtml', 'https://serebii.net/pokedex/139.shtml', 'https://serebii.net/pokedex/140.shtml', 'https://serebii.net/pokedex/141.shtml', 'https://serebii.net/pokedex/142.shtml', 'https://serebii.net/pokedex/143.shtml', 'https://serebii.net/pokedex/144.shtml', 'https://serebii.net/pokedex/145.shtml', 'https://serebii.net/pokedex/146.shtml', 'https://serebii.net/pokedex/147.shtml', 'https://serebii.net/pokedex/148.shtml', 'https://serebii.net/pokedex/149.shtml', 'https://serebii.net/pokedex/150.shtml', 'https://serebii.net/pokedex/151.shtml']\n"
     ]
    }
   ],
   "source": [
    "print(page_urls)"
   ]
  },
  {
   "cell_type": "code",
   "execution_count": 13,
   "id": "1c86076a",
   "metadata": {},
   "outputs": [],
   "source": [
    "def scrape_data(page_urls):\n",
    "    pokemon_data = {'number':[],'name':[],'type1':[],'type2':[],'species':[],\n",
    "                    'hp':[],'attack':[],'defense':[],'special':[],'speed':[],\n",
    "                    'base_stat_total':[],'exp':[],'growth_rate':[]}\n",
    "    for url in page_urls:\n",
    "        try:\n",
    "            res = requests.get(url)\n",
    "            res.raise_for_status()\n",
    "        except requests.exceptions.HTTPError as err:\n",
    "            raise SystemExit(err)\n",
    "        soup = BeautifulSoup(res.text, 'html.parser')\n",
    "        tables = soup.select('td[class=fooinfo]')\n",
    "        page_text = [table.getText() for table in tables]\n",
    "        cleaner_text = [re.split(r'\\n+|\\r+|\\t+', element) for element in page_text]\n",
    "        pokemon_data['number'].append(cleaner_text[3][0])\n",
    "        pokemon_data['name'].append(cleaner_text[1][0])\n",
    "        pokemon_data['species'].append(cleaner_text[4][0])\n",
    "        base_stats = re.findall(r'\\d+',cleaner_text[9][0])\n",
    "        base_stats = [int(stat) for stat in base_stats]\n",
    "        pokemon_data['hp'].append(base_stats[0])\n",
    "        pokemon_data['attack'].append(base_stats[1])\n",
    "        pokemon_data['defense'].append(base_stats[2])\n",
    "        pokemon_data['special'].append(base_stats[3])\n",
    "        pokemon_data['speed'].append(base_stats[4])\n",
    "        pokemon_data['base_stat_total'].append(sum(base_stats))\n",
    "        exp_growth_rate = re.findall(r'(\\d+,\\d+,\\d+)\\sPoints(.+)$',cleaner_text[8][0])\n",
    "        if exp_growth_rate:\n",
    "            pokemon_data['exp'].append(exp_growth_rate[0][0])\n",
    "            pokemon_data['growth_rate'].append(exp_growth_rate[0][1])\n",
    "        else:\n",
    "            pokemon_data['exp'].append(None)\n",
    "            pokemon_data['growth_rate'].append(None)\n",
    "        images = soup.findAll('img')\n",
    "        img_srcs = [image['src'] for image in images]\n",
    "        pokemon_data['type1'].append(re.findall(r'(\\w+)\\.gif',img_srcs[9])[0])\n",
    "        type2 = re.findall(r'(\\w+)\\.gif',img_srcs[10])[0]\n",
    "        if type2 == 'normal2':\n",
    "            type2 = None\n",
    "        pokemon_data['type2'].append(type2)\n",
    "        pokemon_dataframe = pd.DataFrame(pokemon_data)\n",
    "    return pokemon_dataframe"
   ]
  },
  {
   "cell_type": "code",
   "execution_count": 14,
   "id": "dfa19cbe",
   "metadata": {},
   "outputs": [],
   "source": [
    "pokemon_dataframe = scrape_data(page_urls)"
   ]
  },
  {
   "cell_type": "code",
   "execution_count": 15,
   "id": "ec7a4880",
   "metadata": {},
   "outputs": [
    {
     "data": {
      "text/html": [
       "<div>\n",
       "<style scoped>\n",
       "    .dataframe tbody tr th:only-of-type {\n",
       "        vertical-align: middle;\n",
       "    }\n",
       "\n",
       "    .dataframe tbody tr th {\n",
       "        vertical-align: top;\n",
       "    }\n",
       "\n",
       "    .dataframe thead th {\n",
       "        text-align: right;\n",
       "    }\n",
       "</style>\n",
       "<table border=\"1\" class=\"dataframe\">\n",
       "  <thead>\n",
       "    <tr style=\"text-align: right;\">\n",
       "      <th></th>\n",
       "      <th>number</th>\n",
       "      <th>name</th>\n",
       "      <th>type1</th>\n",
       "      <th>type2</th>\n",
       "      <th>species</th>\n",
       "      <th>hp</th>\n",
       "      <th>attack</th>\n",
       "      <th>defense</th>\n",
       "      <th>special</th>\n",
       "      <th>speed</th>\n",
       "      <th>base_stat_total</th>\n",
       "      <th>exp</th>\n",
       "      <th>growth_rate</th>\n",
       "    </tr>\n",
       "  </thead>\n",
       "  <tbody>\n",
       "    <tr>\n",
       "      <th>0</th>\n",
       "      <td>#001</td>\n",
       "      <td>Bulbasaur</td>\n",
       "      <td>grass</td>\n",
       "      <td>poison</td>\n",
       "      <td>Seed Pokémon</td>\n",
       "      <td>45</td>\n",
       "      <td>49</td>\n",
       "      <td>49</td>\n",
       "      <td>65</td>\n",
       "      <td>45</td>\n",
       "      <td>253</td>\n",
       "      <td>1,059,860</td>\n",
       "      <td>Medium Slow</td>\n",
       "    </tr>\n",
       "    <tr>\n",
       "      <th>1</th>\n",
       "      <td>#002</td>\n",
       "      <td>Ivysaur</td>\n",
       "      <td>grass</td>\n",
       "      <td>poison</td>\n",
       "      <td>Seed Pokémon</td>\n",
       "      <td>60</td>\n",
       "      <td>62</td>\n",
       "      <td>63</td>\n",
       "      <td>80</td>\n",
       "      <td>60</td>\n",
       "      <td>325</td>\n",
       "      <td>1,059,860</td>\n",
       "      <td>Medium Slow</td>\n",
       "    </tr>\n",
       "    <tr>\n",
       "      <th>2</th>\n",
       "      <td>#003</td>\n",
       "      <td>Venusaur</td>\n",
       "      <td>grass</td>\n",
       "      <td>poison</td>\n",
       "      <td>Seed Pokémon</td>\n",
       "      <td>80</td>\n",
       "      <td>82</td>\n",
       "      <td>83</td>\n",
       "      <td>100</td>\n",
       "      <td>80</td>\n",
       "      <td>425</td>\n",
       "      <td>1,059,860</td>\n",
       "      <td>Medium Slow</td>\n",
       "    </tr>\n",
       "    <tr>\n",
       "      <th>3</th>\n",
       "      <td>#004</td>\n",
       "      <td>Charmander</td>\n",
       "      <td>fire</td>\n",
       "      <td>None</td>\n",
       "      <td>Lizard Pokémon</td>\n",
       "      <td>39</td>\n",
       "      <td>52</td>\n",
       "      <td>43</td>\n",
       "      <td>50</td>\n",
       "      <td>65</td>\n",
       "      <td>249</td>\n",
       "      <td>1,059,860</td>\n",
       "      <td>Medium Slow</td>\n",
       "    </tr>\n",
       "    <tr>\n",
       "      <th>4</th>\n",
       "      <td>#005</td>\n",
       "      <td>Charmeleon</td>\n",
       "      <td>fire</td>\n",
       "      <td>None</td>\n",
       "      <td>Flame Pokémon</td>\n",
       "      <td>58</td>\n",
       "      <td>64</td>\n",
       "      <td>58</td>\n",
       "      <td>65</td>\n",
       "      <td>80</td>\n",
       "      <td>325</td>\n",
       "      <td>1,059,860</td>\n",
       "      <td>Medium Slow</td>\n",
       "    </tr>\n",
       "  </tbody>\n",
       "</table>\n",
       "</div>"
      ],
      "text/plain": [
       "  number        name  type1   type2         species  hp  attack  defense  \\\n",
       "0   #001   Bulbasaur  grass  poison    Seed Pokémon  45      49       49   \n",
       "1   #002     Ivysaur  grass  poison    Seed Pokémon  60      62       63   \n",
       "2   #003    Venusaur  grass  poison    Seed Pokémon  80      82       83   \n",
       "3   #004  Charmander   fire    None  Lizard Pokémon  39      52       43   \n",
       "4   #005  Charmeleon   fire    None   Flame Pokémon  58      64       58   \n",
       "\n",
       "   special  speed  base_stat_total        exp  growth_rate  \n",
       "0       65     45              253  1,059,860  Medium Slow  \n",
       "1       80     60              325  1,059,860  Medium Slow  \n",
       "2      100     80              425  1,059,860  Medium Slow  \n",
       "3       50     65              249  1,059,860  Medium Slow  \n",
       "4       65     80              325  1,059,860  Medium Slow  "
      ]
     },
     "execution_count": 15,
     "metadata": {},
     "output_type": "execute_result"
    }
   ],
   "source": [
    "pokemon_dataframe.head()"
   ]
  },
  {
   "cell_type": "code",
   "execution_count": 34,
   "id": "227a3b3a",
   "metadata": {},
   "outputs": [
    {
     "data": {
      "image/png": "[encoded data removed]",
      "text/plain": [
       "<Figure size 1368x1080 with 2 Axes>"
      ]
     },
     "metadata": {
      "needs_background": "light"
     },
     "output_type": "display_data"
    }
   ],
   "source": [
    "import matplotlib.pyplot as plt\n",
    "df = pokemon_dataframe\n",
    "f = plt.figure(figsize=(19, 15))\n",
    "plt.matshow(df.corr(), fignum=f.number, cmap='inferno')\n",
    "plt.xticks(range(df.select_dtypes(['number']).shape[1]), df.select_dtypes(['number']).columns, fontsize=14, rotation=45)\n",
    "plt.yticks(range(df.select_dtypes(['number']).shape[1]), df.select_dtypes(['number']).columns, fontsize=14)\n",
    "cb = plt.colorbar()\n",
    "cb.ax.tick_params(labelsize=14)\n",
    "plt.title('Stats Correlation Matrix', fontsize=16);"
   ]
  }
 ],
 "metadata": {
  "kernelspec": {
   "display_name": "Python 3 (ipykernel)",
   "language": "python",
   "name": "python3"
  },
  "language_info": {
   "codemirror_mode": {
    "name": "ipython",
    "version": 3
   },
   "file_extension": ".py",
   "mimetype": "text/x-python",
   "name": "python",
   "nbconvert_exporter": "python",
   "pygments_lexer": "ipython3",
   "version": "3.9.7"
  }
 },
 "nbformat": 4,
 "nbformat_minor": 5
}
