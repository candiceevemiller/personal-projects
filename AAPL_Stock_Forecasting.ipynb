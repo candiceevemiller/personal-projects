{
  "nbformat": 4,
  "nbformat_minor": 0,
  "metadata": {
    "accelerator": "GPU",
    "colab": {
      "name": "AAPL Stock Forecasting.ipynb",
      "provenance": [],
      "collapsed_sections": [],
      "include_colab_link": true
    },
    "kernelspec": {
      "name": "python3",
      "display_name": "Python 3"
    },
    "language_info": {
      "name": "python"
    }
  },
  "cells": [
    {
      "cell_type": "markdown",
      "metadata": {
        "id": "view-in-github",
        "colab_type": "text"
      },
      "source": [
        "<a href=\"https://colab.research.google.com/github/candiceevemiller/personal-projects/blob/main/AAPL_Stock_Forecasting.ipynb\" target=\"_parent\"><img src=\"https://colab.research.google.com/assets/colab-badge.svg\" alt=\"Open In Colab\"/></a>"
      ]
    },
    {
      "cell_type": "code",
      "metadata": {
        "id": "56XEQOGknrAk",
        "outputId": "82bcc333-e38b-48bb-f06c-7c59b090e0e0",
        "colab": {
          "base_uri": "https://localhost:8080/"
        }
      },
      "source": [
        "import tensorflow as tf\n",
        "print(tf.__version__)"
      ],
      "execution_count": null,
      "outputs": [
        {
          "output_type": "stream",
          "name": "stdout",
          "text": [
            "2.7.0\n"
          ]
        }
      ]
    },
    {
      "cell_type": "code",
      "metadata": {
        "id": "sLl52leVp5wU"
      },
      "source": [
        "import numpy as np\n",
        "import matplotlib.pyplot as plt\n",
        "def plot_series(time, series, format=\"-\", start=0, end=None):\n",
        "    plt.plot(time[start:end], series[start:end], format)\n",
        "    plt.xlabel(\"Time\")\n",
        "    plt.ylabel(\"Value\")\n",
        "    plt.grid(True)"
      ],
      "execution_count": null,
      "outputs": []
    },
    {
      "cell_type": "code",
      "metadata": {
        "id": "tP7oqUdkk0gY"
      },
      "source": [
        "# AAPL.csv\n",
        "url = 'https://raw.githubusercontent.com/candiceevemiller/personal-projects/main/AAPL.csv'"
      ],
      "execution_count": null,
      "outputs": []
    },
    {
      "cell_type": "code",
      "metadata": {
        "id": "NcG9r1eClbTh",
        "colab": {
          "base_uri": "https://localhost:8080/"
        },
        "outputId": "c6e04aa1-62f8-489d-bc1f-147047966b77"
      },
      "source": [
        "import pandas as pd\n",
        "import csv\n",
        "import urllib.request\n",
        "from datetime import datetime\n",
        "\n",
        "data = pd.read_csv(url)\n",
        "\n",
        "for i in range(len(data['Date'])):\n",
        "  data['Date'][i] = datetime.fromisoformat(data['Date'][i])\n",
        "\n",
        "print(data)\n",
        "\n",
        "time_step = np.array(data['Date'])\n",
        "closing_price = np.array(data['Close'])\n",
        "\n",
        "print(time_step)\n",
        "print(closing_price)"
      ],
      "execution_count": null,
      "outputs": [
        {
          "output_type": "stream",
          "name": "stderr",
          "text": [
            "/usr/local/lib/python3.7/dist-packages/ipykernel_launcher.py:9: SettingWithCopyWarning: \n",
            "A value is trying to be set on a copy of a slice from a DataFrame\n",
            "\n",
            "See the caveats in the documentation: https://pandas.pydata.org/pandas-docs/stable/user_guide/indexing.html#returning-a-view-versus-a-copy\n",
            "  if __name__ == '__main__':\n"
          ]
        },
        {
          "output_type": "stream",
          "name": "stdout",
          "text": [
            "                      Date        Open  ...   Adj Close     Volume\n",
            "0      1980-12-12 00:00:00    0.128348  ...    0.100453  469033600\n",
            "1      1980-12-15 00:00:00    0.122210  ...    0.095213  175884800\n",
            "2      1980-12-16 00:00:00    0.113281  ...    0.088224  105728000\n",
            "3      1980-12-17 00:00:00    0.115513  ...    0.090408   86441600\n",
            "4      1980-12-18 00:00:00    0.118862  ...    0.093029   73449600\n",
            "...                    ...         ...  ...         ...        ...\n",
            "10352  2022-01-03 00:00:00  177.830002  ...  182.009995  104487900\n",
            "10353  2022-01-04 00:00:00  182.630005  ...  179.699997   99310400\n",
            "10354  2022-01-05 00:00:00  179.610001  ...  174.919998   94537600\n",
            "10355  2022-01-06 00:00:00  172.699997  ...  172.000000   96904000\n",
            "10356  2022-01-07 00:00:00  172.889999  ...  172.169998   86580100\n",
            "\n",
            "[10357 rows x 7 columns]\n",
            "[datetime.datetime(1980, 12, 12, 0, 0)\n",
            " datetime.datetime(1980, 12, 15, 0, 0)\n",
            " datetime.datetime(1980, 12, 16, 0, 0) ...\n",
            " datetime.datetime(2022, 1, 5, 0, 0) datetime.datetime(2022, 1, 6, 0, 0)\n",
            " datetime.datetime(2022, 1, 7, 0, 0)]\n",
            "[1.28348000e-01 1.21652000e-01 1.12723000e-01 ... 1.74919998e+02\n",
            " 1.72000000e+02 1.72169998e+02]\n"
          ]
        }
      ]
    },
    {
      "cell_type": "code",
      "metadata": {
        "id": "VinZVwUa8WO7",
        "colab": {
          "base_uri": "https://localhost:8080/",
          "height": 388
        },
        "outputId": "4df58f62-1d35-46f4-b952-9cb46e94c815"
      },
      "source": [
        "time = time_step\n",
        "series = closing_price\n",
        "plt.figure(figsize=(10, 6))\n",
        "plot_series(time_step, closing_price)"
      ],
      "execution_count": null,
      "outputs": [
        {
          "output_type": "display_data",
          "data": {
            "image/png": "[encoded data removed]",
            "text/plain": [
              "<Figure size 720x432 with 1 Axes>"
            ]
          },
          "metadata": {
            "needs_background": "light"
          }
        }
      ]
    },
    {
      "cell_type": "code",
      "metadata": {
        "id": "L92YRw_IpCFG"
      },
      "source": [
        "split_time = len(data)-365\n",
        "time_train = time[:split_time]\n",
        "x_train = series[:split_time]\n",
        "time_valid = time[split_time:]\n",
        "x_valid = series[split_time:]\n",
        "\n",
        "window_size = 30\n",
        "batch_size = 32\n",
        "shuffle_buffer_size = split_time\n"
      ],
      "execution_count": null,
      "outputs": []
    },
    {
      "cell_type": "code",
      "metadata": {
        "id": "lJwUUZscnG38"
      },
      "source": [
        "def windowed_dataset(series, window_size, batch_size, shuffle_buffer):\n",
        "    series = tf.expand_dims(series, axis=-1)\n",
        "    ds = tf.data.Dataset.from_tensor_slices(series)\n",
        "    ds = ds.window(window_size + 1, shift=1, drop_remainder=True)\n",
        "    ds = ds.flat_map(lambda w: w.batch(window_size + 1))\n",
        "    ds = ds.shuffle(shuffle_buffer)\n",
        "    ds = ds.map(lambda w: (w[:-1], w[1:]))\n",
        "    return ds.batch(batch_size).prefetch(1)"
      ],
      "execution_count": null,
      "outputs": []
    },
    {
      "cell_type": "code",
      "metadata": {
        "id": "4XwGrf-A_wF0"
      },
      "source": [
        "def model_forecast(model, series, window_size):\n",
        "    ds = tf.data.Dataset.from_tensor_slices(series)\n",
        "    ds = ds.window(window_size, shift=1, drop_remainder=True)\n",
        "    ds = ds.flat_map(lambda w: w.batch(window_size))\n",
        "    ds = ds.batch(32).prefetch(1)\n",
        "    forecast = model.predict(ds)\n",
        "    return forecast"
      ],
      "execution_count": null,
      "outputs": []
    },
    {
      "cell_type": "code",
      "metadata": {
        "id": "AclfYY3Mn6Ph",
        "colab": {
          "base_uri": "https://localhost:8080/"
        },
        "outputId": "6db64019-9be3-4b3d-c736-a83a19b21897"
      },
      "source": [
        "tf.keras.backend.clear_session()\n",
        "tf.random.set_seed(51)\n",
        "np.random.seed(51)\n",
        "window_size = 90\n",
        "batch_size = 64\n",
        "train_set = windowed_dataset(x_train, window_size, batch_size, shuffle_buffer_size)\n",
        "print(train_set)\n",
        "print(x_train.shape)\n",
        "\n",
        "model = tf.keras.models.Sequential([\n",
        "  tf.keras.layers.Conv1D(filters=32, kernel_size=5,\n",
        "                      strides=1, padding='causal',\n",
        "                      activation='relu',\n",
        "                      input_shape=[None, 1]),\n",
        "  tf.keras.layers.LSTM(32, return_sequences=True),\n",
        "  tf.keras.layers.LSTM(64, return_sequences=True),\n",
        "  tf.keras.layers.LSTM(128, return_sequences=True),\n",
        "  tf.keras.layers.Dense(512, activation='relu'),\n",
        "  tf.keras.layers.Dropout(0.4),\n",
        "  tf.keras.layers.Dense(128, activation='relu'),\n",
        "  tf.keras.layers.Dropout(0.2),\n",
        "  tf.keras.layers.Dense(1, activation='relu')\n",
        "])\n",
        "\n",
        "lr_schedule = tf.keras.callbacks.LearningRateScheduler(\n",
        "    lambda epoch: 1e-8 * 10**(epoch / 10))\n",
        "optimizer = tf.keras.optimizers.SGD(learning_rate=1e-8, momentum=0.9)\n",
        "model.compile(loss=tf.keras.losses.Huber(),\n",
        "              optimizer=optimizer,\n",
        "              metrics=[\"mae\"])\n",
        "history = model.fit(train_set, epochs=100, callbacks=[lr_schedule])\n"
      ],
      "execution_count": null,
      "outputs": [
        {
          "output_type": "stream",
          "name": "stdout",
          "text": [
            "<PrefetchDataset shapes: ((None, None, 1), (None, None, 1)), types: (tf.float64, tf.float64)>\n",
            "(9000,)\n",
            "Epoch 1/100\n",
            "140/140 [==============================] - 7s 22ms/step - loss: 3.9290 - mae: 4.2605 - lr: 1.0000e-08\n",
            "Epoch 2/100\n",
            "140/140 [==============================] - 3s 21ms/step - loss: 3.9291 - mae: 4.2605 - lr: 1.2589e-08\n",
            "Epoch 3/100\n",
            "140/140 [==============================] - 3s 21ms/step - loss: 3.9290 - mae: 4.2604 - lr: 1.5849e-08\n",
            "Epoch 4/100\n",
            "140/140 [==============================] - 3s 21ms/step - loss: 3.9290 - mae: 4.2604 - lr: 1.9953e-08\n",
            "Epoch 5/100\n",
            "140/140 [==============================] - 3s 21ms/step - loss: 3.9290 - mae: 4.2604 - lr: 2.5119e-08\n",
            "Epoch 6/100\n",
            "140/140 [==============================] - 3s 21ms/step - loss: 3.9290 - mae: 4.2604 - lr: 3.1623e-08\n",
            "Epoch 7/100\n",
            "140/140 [==============================] - 3s 21ms/step - loss: 3.9290 - mae: 4.2604 - lr: 3.9811e-08\n",
            "Epoch 8/100\n",
            "140/140 [==============================] - 3s 21ms/step - loss: 3.9290 - mae: 4.2603 - lr: 5.0119e-08\n",
            "Epoch 9/100\n",
            "140/140 [==============================] - 3s 21ms/step - loss: 3.9290 - mae: 4.2603 - lr: 6.3096e-08\n",
            "Epoch 10/100\n",
            "140/140 [==============================] - 3s 21ms/step - loss: 3.9289 - mae: 4.2602 - lr: 7.9433e-08\n",
            "Epoch 11/100\n",
            "140/140 [==============================] - 3s 21ms/step - loss: 3.9289 - mae: 4.2601 - lr: 1.0000e-07\n",
            "Epoch 12/100\n",
            "140/140 [==============================] - 3s 21ms/step - loss: 3.9288 - mae: 4.2601 - lr: 1.2589e-07\n",
            "Epoch 13/100\n",
            "140/140 [==============================] - 3s 21ms/step - loss: 3.9288 - mae: 4.2599 - lr: 1.5849e-07\n",
            "Epoch 14/100\n",
            "140/140 [==============================] - 3s 21ms/step - loss: 3.9287 - mae: 4.2597 - lr: 1.9953e-07\n",
            "Epoch 15/100\n",
            "140/140 [==============================] - 3s 21ms/step - loss: 3.9286 - mae: 4.2595 - lr: 2.5119e-07\n",
            "Epoch 16/100\n",
            "140/140 [==============================] - 3s 21ms/step - loss: 3.9284 - mae: 4.2593 - lr: 3.1623e-07\n",
            "Epoch 17/100\n",
            "140/140 [==============================] - 3s 21ms/step - loss: 3.9282 - mae: 4.2589 - lr: 3.9811e-07\n",
            "Epoch 18/100\n",
            "140/140 [==============================] - 3s 21ms/step - loss: 3.9280 - mae: 4.2584 - lr: 5.0119e-07\n",
            "Epoch 19/100\n",
            "140/140 [==============================] - 3s 21ms/step - loss: 3.9276 - mae: 4.2577 - lr: 6.3096e-07\n",
            "Epoch 20/100\n",
            "140/140 [==============================] - 3s 21ms/step - loss: 3.9272 - mae: 4.2569 - lr: 7.9433e-07\n",
            "Epoch 21/100\n",
            "140/140 [==============================] - 3s 21ms/step - loss: 3.9266 - mae: 4.2558 - lr: 1.0000e-06\n",
            "Epoch 22/100\n",
            "140/140 [==============================] - 3s 21ms/step - loss: 3.9258 - mae: 4.2544 - lr: 1.2589e-06\n",
            "Epoch 23/100\n",
            "140/140 [==============================] - 3s 21ms/step - loss: 3.9248 - mae: 4.2525 - lr: 1.5849e-06\n",
            "Epoch 24/100\n",
            "140/140 [==============================] - 3s 21ms/step - loss: 3.9234 - mae: 4.2499 - lr: 1.9953e-06\n",
            "Epoch 25/100\n",
            "140/140 [==============================] - 3s 21ms/step - loss: 3.9215 - mae: 4.2466 - lr: 2.5119e-06\n",
            "Epoch 26/100\n",
            "140/140 [==============================] - 3s 21ms/step - loss: 3.9189 - mae: 4.2421 - lr: 3.1623e-06\n",
            "Epoch 27/100\n",
            "140/140 [==============================] - 3s 21ms/step - loss: 3.9152 - mae: 4.2360 - lr: 3.9811e-06\n",
            "Epoch 28/100\n",
            "140/140 [==============================] - 3s 21ms/step - loss: 3.9095 - mae: 4.2270 - lr: 5.0119e-06\n",
            "Epoch 29/100\n",
            "140/140 [==============================] - 3s 21ms/step - loss: 3.9008 - mae: 4.2142 - lr: 6.3096e-06\n",
            "Epoch 30/100\n",
            "140/140 [==============================] - 3s 21ms/step - loss: 3.8917 - mae: 4.1996 - lr: 7.9433e-06\n",
            "Epoch 31/100\n",
            "140/140 [==============================] - 3s 21ms/step - loss: 3.8813 - mae: 4.1822 - lr: 1.0000e-05\n",
            "Epoch 32/100\n",
            "140/140 [==============================] - 3s 21ms/step - loss: 3.8684 - mae: 4.1607 - lr: 1.2589e-05\n",
            "Epoch 33/100\n",
            "140/140 [==============================] - 3s 21ms/step - loss: 3.8526 - mae: 4.1350 - lr: 1.5849e-05\n",
            "Epoch 34/100\n",
            "140/140 [==============================] - 3s 21ms/step - loss: 3.8333 - mae: 4.1049 - lr: 1.9953e-05\n",
            "Epoch 35/100\n",
            "140/140 [==============================] - 3s 21ms/step - loss: 3.8100 - mae: 4.0713 - lr: 2.5119e-05\n",
            "Epoch 36/100\n",
            "140/140 [==============================] - 3s 21ms/step - loss: 3.7819 - mae: 4.0334 - lr: 3.1623e-05\n",
            "Epoch 37/100\n",
            "140/140 [==============================] - 3s 21ms/step - loss: 3.7481 - mae: 3.9910 - lr: 3.9811e-05\n",
            "Epoch 38/100\n",
            "140/140 [==============================] - 3s 21ms/step - loss: 3.7075 - mae: 3.9472 - lr: 5.0119e-05\n",
            "Epoch 39/100\n",
            "140/140 [==============================] - 3s 21ms/step - loss: 3.6590 - mae: 3.9100 - lr: 6.3096e-05\n",
            "Epoch 40/100\n",
            "140/140 [==============================] - 3s 21ms/step - loss: 3.5989 - mae: 3.8783 - lr: 7.9433e-05\n",
            "Epoch 41/100\n",
            "140/140 [==============================] - 3s 21ms/step - loss: 3.5141 - mae: 3.8282 - lr: 1.0000e-04\n",
            "Epoch 42/100\n",
            "140/140 [==============================] - 3s 21ms/step - loss: 3.3627 - mae: 3.6994 - lr: 1.2589e-04\n",
            "Epoch 43/100\n",
            "140/140 [==============================] - 3s 21ms/step - loss: 2.9768 - mae: 3.2823 - lr: 1.5849e-04\n",
            "Epoch 44/100\n",
            "140/140 [==============================] - 3s 21ms/step - loss: 2.3006 - mae: 2.5645 - lr: 1.9953e-04\n",
            "Epoch 45/100\n",
            "140/140 [==============================] - 3s 21ms/step - loss: 1.3676 - mae: 1.6282 - lr: 2.5119e-04\n",
            "Epoch 46/100\n",
            "140/140 [==============================] - 3s 21ms/step - loss: 1.0294 - mae: 1.3085 - lr: 3.1623e-04\n",
            "Epoch 47/100\n",
            "140/140 [==============================] - 3s 21ms/step - loss: 0.7443 - mae: 1.0202 - lr: 3.9811e-04\n",
            "Epoch 48/100\n",
            "140/140 [==============================] - 3s 21ms/step - loss: 0.5225 - mae: 0.7728 - lr: 5.0119e-04\n",
            "Epoch 49/100\n",
            "140/140 [==============================] - 3s 21ms/step - loss: 0.4576 - mae: 0.6847 - lr: 6.3096e-04\n",
            "Epoch 50/100\n",
            "140/140 [==============================] - 3s 21ms/step - loss: 0.4468 - mae: 0.6688 - lr: 7.9433e-04\n",
            "Epoch 51/100\n",
            "140/140 [==============================] - 3s 21ms/step - loss: 0.4218 - mae: 0.6358 - lr: 0.0010\n",
            "Epoch 52/100\n",
            "140/140 [==============================] - 3s 21ms/step - loss: 0.4517 - mae: 0.6646 - lr: 0.0013\n",
            "Epoch 53/100\n",
            "140/140 [==============================] - 3s 21ms/step - loss: 0.5349 - mae: 0.7708 - lr: 0.0016\n",
            "Epoch 54/100\n",
            "140/140 [==============================] - 3s 21ms/step - loss: 0.4743 - mae: 0.7077 - lr: 0.0020\n",
            "Epoch 55/100\n",
            "140/140 [==============================] - 3s 21ms/step - loss: 0.9821 - mae: 1.2435 - lr: 0.0025\n",
            "Epoch 56/100\n",
            "140/140 [==============================] - 3s 21ms/step - loss: 0.7693 - mae: 1.0347 - lr: 0.0032\n",
            "Epoch 57/100\n",
            "140/140 [==============================] - 3s 21ms/step - loss: 0.5023 - mae: 0.7507 - lr: 0.0040\n",
            "Epoch 58/100\n",
            "140/140 [==============================] - 3s 21ms/step - loss: 1.0018 - mae: 1.2446 - lr: 0.0050\n",
            "Epoch 59/100\n",
            "140/140 [==============================] - 3s 21ms/step - loss: 0.9874 - mae: 1.2698 - lr: 0.0063\n",
            "Epoch 60/100\n",
            "140/140 [==============================] - 3s 22ms/step - loss: 1.2842 - mae: 1.5044 - lr: 0.0079\n",
            "Epoch 61/100\n",
            "140/140 [==============================] - 3s 21ms/step - loss: 2.0203 - mae: 2.3542 - lr: 0.0100\n",
            "Epoch 62/100\n",
            "140/140 [==============================] - 3s 22ms/step - loss: 3.9649 - mae: 4.3108 - lr: 0.0126\n",
            "Epoch 63/100\n",
            "140/140 [==============================] - 3s 21ms/step - loss: 3.8760 - mae: 4.2080 - lr: 0.0158\n",
            "Epoch 64/100\n",
            "140/140 [==============================] - 3s 21ms/step - loss: 2.4029 - mae: 2.7382 - lr: 0.0200\n",
            "Epoch 65/100\n",
            "140/140 [==============================] - 3s 21ms/step - loss: 4.1290 - mae: 4.4901 - lr: 0.0251\n",
            "Epoch 66/100\n",
            "140/140 [==============================] - 3s 22ms/step - loss: 3.9345 - mae: 4.2671 - lr: 0.0316\n",
            "Epoch 67/100\n",
            "140/140 [==============================] - 3s 22ms/step - loss: 3.9345 - mae: 4.2671 - lr: 0.0398\n",
            "Epoch 68/100\n",
            "140/140 [==============================] - 3s 21ms/step - loss: 3.9345 - mae: 4.2671 - lr: 0.0501\n",
            "Epoch 69/100\n",
            "140/140 [==============================] - 3s 21ms/step - loss: 3.9345 - mae: 4.2671 - lr: 0.0631\n",
            "Epoch 70/100\n",
            "140/140 [==============================] - 3s 21ms/step - loss: 3.9345 - mae: 4.2671 - lr: 0.0794\n",
            "Epoch 71/100\n",
            "140/140 [==============================] - 3s 21ms/step - loss: 3.9345 - mae: 4.2671 - lr: 0.1000\n",
            "Epoch 72/100\n",
            "140/140 [==============================] - 3s 21ms/step - loss: 3.9345 - mae: 4.2671 - lr: 0.1259\n",
            "Epoch 73/100\n",
            "140/140 [==============================] - 3s 21ms/step - loss: 3.9345 - mae: 4.2671 - lr: 0.1585\n",
            "Epoch 74/100\n",
            "140/140 [==============================] - 3s 21ms/step - loss: 3.9345 - mae: 4.2671 - lr: 0.1995\n",
            "Epoch 75/100\n",
            "140/140 [==============================] - 3s 21ms/step - loss: 3.9345 - mae: 4.2671 - lr: 0.2512\n",
            "Epoch 76/100\n",
            "140/140 [==============================] - 3s 22ms/step - loss: 3.9345 - mae: 4.2671 - lr: 0.3162\n",
            "Epoch 77/100\n",
            "140/140 [==============================] - 3s 21ms/step - loss: 3.9345 - mae: 4.2671 - lr: 0.3981\n",
            "Epoch 78/100\n",
            "140/140 [==============================] - 3s 21ms/step - loss: 3.9345 - mae: 4.2671 - lr: 0.5012\n",
            "Epoch 79/100\n",
            "140/140 [==============================] - 3s 21ms/step - loss: 3.9345 - mae: 4.2671 - lr: 0.6310\n",
            "Epoch 80/100\n",
            "140/140 [==============================] - 3s 21ms/step - loss: 3.9345 - mae: 4.2671 - lr: 0.7943\n",
            "Epoch 81/100\n",
            "140/140 [==============================] - 3s 21ms/step - loss: 3.9345 - mae: 4.2671 - lr: 1.0000\n",
            "Epoch 82/100\n",
            "140/140 [==============================] - 3s 21ms/step - loss: 3.9345 - mae: 4.2671 - lr: 1.2589\n",
            "Epoch 83/100\n",
            "140/140 [==============================] - 3s 21ms/step - loss: 3.9345 - mae: 4.2671 - lr: 1.5849\n",
            "Epoch 84/100\n",
            "140/140 [==============================] - 3s 21ms/step - loss: 3.9345 - mae: 4.2671 - lr: 1.9953\n",
            "Epoch 85/100\n",
            "140/140 [==============================] - 3s 21ms/step - loss: 3.9345 - mae: 4.2671 - lr: 2.5119\n",
            "Epoch 86/100\n",
            "140/140 [==============================] - 3s 21ms/step - loss: 3.9345 - mae: 4.2671 - lr: 3.1623\n",
            "Epoch 87/100\n",
            "140/140 [==============================] - 3s 21ms/step - loss: 3.9345 - mae: 4.2671 - lr: 3.9811\n",
            "Epoch 88/100\n",
            "140/140 [==============================] - 3s 21ms/step - loss: 3.9345 - mae: 4.2671 - lr: 5.0119\n",
            "Epoch 89/100\n",
            "140/140 [==============================] - 3s 22ms/step - loss: 3.9345 - mae: 4.2671 - lr: 6.3096\n",
            "Epoch 90/100\n",
            "140/140 [==============================] - 3s 22ms/step - loss: 3.9345 - mae: 4.2671 - lr: 7.9433\n",
            "Epoch 91/100\n",
            "140/140 [==============================] - 3s 21ms/step - loss: 3.9345 - mae: 4.2671 - lr: 10.0000\n",
            "Epoch 92/100\n",
            "140/140 [==============================] - 3s 21ms/step - loss: 3.9345 - mae: 4.2671 - lr: 12.5893\n",
            "Epoch 93/100\n",
            "140/140 [==============================] - 3s 22ms/step - loss: 3.9345 - mae: 4.2671 - lr: 15.8489\n",
            "Epoch 94/100\n",
            "140/140 [==============================] - 3s 22ms/step - loss: 3.9345 - mae: 4.2671 - lr: 19.9526\n",
            "Epoch 95/100\n",
            "140/140 [==============================] - 3s 21ms/step - loss: 3.9345 - mae: 4.2671 - lr: 25.1189\n",
            "Epoch 96/100\n",
            "140/140 [==============================] - 3s 21ms/step - loss: 3.9345 - mae: 4.2671 - lr: 31.6228\n",
            "Epoch 97/100\n",
            "140/140 [==============================] - 3s 21ms/step - loss: 3.9345 - mae: 4.2671 - lr: 39.8107\n",
            "Epoch 98/100\n",
            "140/140 [==============================] - 3s 21ms/step - loss: 3.9345 - mae: 4.2671 - lr: 50.1187\n",
            "Epoch 99/100\n",
            "140/140 [==============================] - 3s 21ms/step - loss: 3.9345 - mae: 4.2671 - lr: 63.0957\n",
            "Epoch 100/100\n",
            "140/140 [==============================] - 3s 22ms/step - loss: 3.9345 - mae: 4.2671 - lr: 79.4328\n"
          ]
        }
      ]
    },
    {
      "cell_type": "code",
      "metadata": {
        "id": "vVcKmg7Q_7rD",
        "colab": {
          "base_uri": "https://localhost:8080/",
          "height": 290
        },
        "outputId": "acebdf43-2829-4586-f939-89f3173a3299"
      },
      "source": [
        "plt.semilogx(history.history[\"lr\"], history.history[\"loss\"])\n",
        "plt.axis([1e-8, 10, 0, 5])"
      ],
      "execution_count": null,
      "outputs": [
        {
          "output_type": "execute_result",
          "data": {
            "text/plain": [
              "(1e-08, 10.0, 0.0, 5.0)"
            ]
          },
          "metadata": {},
          "execution_count": 24
        },
        {
          "output_type": "display_data",
          "data": {
            "image/png": "[encoded data removed]",
            "text/plain": [
              "<Figure size 432x288 with 1 Axes>"
            ]
          },
          "metadata": {
            "needs_background": "light"
          }
        }
      ]
    },
    {
      "cell_type": "code",
      "metadata": {
        "id": "QsksvkcXAAgq",
        "colab": {
          "base_uri": "https://localhost:8080/"
        },
        "outputId": "6db76091-a022-4668-bac7-9397c286f280"
      },
      "source": [
        "tf.keras.backend.clear_session()\n",
        "tf.random.set_seed(51)\n",
        "np.random.seed(51)\n",
        "train_set = windowed_dataset(x_train, window_size=365, batch_size=64, shuffle_buffer=shuffle_buffer_size)\n",
        "model = tf.keras.models.Sequential([\n",
        "  tf.keras.layers.Conv1D(filters=64, kernel_size=30,\n",
        "                      strides=1, padding='causal',\n",
        "                      activation='relu',\n",
        "                      input_shape=[None, 1]),\n",
        "  tf.keras.layers.LSTM(32, return_sequences=True),\n",
        "  tf.keras.layers.LSTM(64, return_sequences=True),\n",
        "  tf.keras.layers.LSTM(128, return_sequences=True),\n",
        "  tf.keras.layers.Dense(64, activation='relu'),\n",
        "  tf.keras.layers.Dropout(0.2),\n",
        "  tf.keras.layers.Dense(30, activation='relu'),\n",
        "  tf.keras.layers.Dropout(0.1),\n",
        "  tf.keras.layers.Dense(1, activation='relu')\n",
        "])\n",
        "\n",
        "\n",
        "\n",
        "optimizer = tf.keras.optimizers.SGD(learning_rate=1e-3, momentum=0.9)\n",
        "model.compile(loss=tf.keras.losses.Huber(),\n",
        "              optimizer=optimizer,\n",
        "              metrics=[\"mae\"])\n",
        "history = model.fit(train_set,epochs=100)"
      ],
      "execution_count": null,
      "outputs": [
        {
          "output_type": "stream",
          "name": "stdout",
          "text": [
            "Epoch 1/100\n",
            "135/135 [==============================] - 13s 52ms/step - loss: 3.6380 - mae: 3.9661\n",
            "Epoch 2/100\n",
            "135/135 [==============================] - 9s 53ms/step - loss: 3.1714 - mae: 3.4748\n",
            "Epoch 3/100\n",
            "135/135 [==============================] - 10s 53ms/step - loss: 1.5102 - mae: 1.7586\n",
            "Epoch 4/100\n",
            "135/135 [==============================] - 10s 53ms/step - loss: 0.7883 - mae: 0.9981\n",
            "Epoch 5/100\n",
            "135/135 [==============================] - 10s 54ms/step - loss: 0.7574 - mae: 0.9569\n",
            "Epoch 6/100\n",
            "135/135 [==============================] - 10s 54ms/step - loss: 0.7150 - mae: 0.9092\n",
            "Epoch 7/100\n",
            "135/135 [==============================] - 10s 54ms/step - loss: 0.7158 - mae: 0.9099\n",
            "Epoch 8/100\n",
            "135/135 [==============================] - 10s 54ms/step - loss: 0.6519 - mae: 0.8423\n",
            "Epoch 9/100\n",
            "135/135 [==============================] - 10s 54ms/step - loss: 0.6376 - mae: 0.8281\n",
            "Epoch 10/100\n",
            "135/135 [==============================] - 10s 54ms/step - loss: 0.5919 - mae: 0.7787\n",
            "Epoch 11/100\n",
            "135/135 [==============================] - 10s 54ms/step - loss: 0.6128 - mae: 0.8008\n",
            "Epoch 12/100\n",
            "135/135 [==============================] - 10s 54ms/step - loss: 0.5074 - mae: 0.6907\n",
            "Epoch 13/100\n",
            "135/135 [==============================] - 10s 54ms/step - loss: 0.4382 - mae: 0.6179\n",
            "Epoch 14/100\n",
            "135/135 [==============================] - 10s 54ms/step - loss: 0.4035 - mae: 0.5809\n",
            "Epoch 15/100\n",
            "135/135 [==============================] - 10s 54ms/step - loss: 0.4044 - mae: 0.5814\n",
            "Epoch 16/100\n",
            "135/135 [==============================] - 9s 53ms/step - loss: 0.3904 - mae: 0.5668\n",
            "Epoch 17/100\n",
            "135/135 [==============================] - 10s 54ms/step - loss: 0.3754 - mae: 0.5512\n",
            "Epoch 18/100\n",
            "135/135 [==============================] - 10s 54ms/step - loss: 0.3752 - mae: 0.5515\n",
            "Epoch 19/100\n",
            "135/135 [==============================] - 10s 54ms/step - loss: 0.3599 - mae: 0.5355\n",
            "Epoch 20/100\n",
            "135/135 [==============================] - 10s 54ms/step - loss: 0.3561 - mae: 0.5321\n",
            "Epoch 21/100\n",
            "135/135 [==============================] - 10s 54ms/step - loss: 0.3603 - mae: 0.5373\n",
            "Epoch 22/100\n",
            "135/135 [==============================] - 10s 54ms/step - loss: 0.3489 - mae: 0.5255\n",
            "Epoch 23/100\n",
            "135/135 [==============================] - 10s 54ms/step - loss: 0.3422 - mae: 0.5188\n",
            "Epoch 24/100\n",
            "135/135 [==============================] - 10s 54ms/step - loss: 0.3359 - mae: 0.5127\n",
            "Epoch 25/100\n",
            "135/135 [==============================] - 10s 54ms/step - loss: 0.3417 - mae: 0.5191\n",
            "Epoch 26/100\n",
            "135/135 [==============================] - 10s 54ms/step - loss: 0.3361 - mae: 0.5134\n",
            "Epoch 27/100\n",
            "135/135 [==============================] - 10s 54ms/step - loss: 0.3294 - mae: 0.5066\n",
            "Epoch 28/100\n",
            "135/135 [==============================] - 10s 54ms/step - loss: 0.3314 - mae: 0.5092\n",
            "Epoch 29/100\n",
            "135/135 [==============================] - 10s 54ms/step - loss: 0.3229 - mae: 0.5006\n",
            "Epoch 30/100\n",
            "135/135 [==============================] - 10s 54ms/step - loss: 0.3287 - mae: 0.5073\n",
            "Epoch 31/100\n",
            "135/135 [==============================] - 10s 54ms/step - loss: 0.3191 - mae: 0.4972\n",
            "Epoch 32/100\n",
            "135/135 [==============================] - 10s 54ms/step - loss: 0.3179 - mae: 0.4966\n",
            "Epoch 33/100\n",
            "135/135 [==============================] - 10s 54ms/step - loss: 0.3125 - mae: 0.4910\n",
            "Epoch 34/100\n",
            "135/135 [==============================] - 10s 54ms/step - loss: 0.3165 - mae: 0.4959\n",
            "Epoch 35/100\n",
            "135/135 [==============================] - 10s 54ms/step - loss: 0.3092 - mae: 0.4883\n",
            "Epoch 36/100\n",
            "135/135 [==============================] - 10s 54ms/step - loss: 0.3058 - mae: 0.4851\n",
            "Epoch 37/100\n",
            "135/135 [==============================] - 10s 54ms/step - loss: 0.3081 - mae: 0.4880\n",
            "Epoch 38/100\n",
            "135/135 [==============================] - 10s 54ms/step - loss: 0.3028 - mae: 0.4826\n",
            "Epoch 39/100\n",
            "135/135 [==============================] - 10s 54ms/step - loss: 0.3013 - mae: 0.4814\n",
            "Epoch 40/100\n",
            "135/135 [==============================] - 10s 54ms/step - loss: 0.2998 - mae: 0.4802\n",
            "Epoch 41/100\n",
            "135/135 [==============================] - 10s 54ms/step - loss: 0.2956 - mae: 0.4761\n",
            "Epoch 42/100\n",
            "135/135 [==============================] - 10s 54ms/step - loss: 0.3029 - mae: 0.4843\n",
            "Epoch 43/100\n",
            "135/135 [==============================] - 10s 54ms/step - loss: 0.2955 - mae: 0.4768\n",
            "Epoch 44/100\n",
            "135/135 [==============================] - 10s 54ms/step - loss: 0.2912 - mae: 0.4724\n",
            "Epoch 45/100\n",
            "135/135 [==============================] - 10s 54ms/step - loss: 0.2918 - mae: 0.4733\n",
            "Epoch 46/100\n",
            "135/135 [==============================] - 10s 54ms/step - loss: 0.2893 - mae: 0.4708\n",
            "Epoch 47/100\n",
            "135/135 [==============================] - 10s 54ms/step - loss: 0.2923 - mae: 0.4747\n",
            "Epoch 48/100\n",
            "135/135 [==============================] - 10s 54ms/step - loss: 0.2862 - mae: 0.4684\n",
            "Epoch 49/100\n",
            "135/135 [==============================] - 10s 54ms/step - loss: 0.2853 - mae: 0.4678\n",
            "Epoch 50/100\n",
            "135/135 [==============================] - 10s 54ms/step - loss: 0.2879 - mae: 0.4710\n",
            "Epoch 51/100\n",
            "135/135 [==============================] - 10s 54ms/step - loss: 0.2826 - mae: 0.4656\n",
            "Epoch 52/100\n",
            "135/135 [==============================] - 10s 54ms/step - loss: 0.2819 - mae: 0.4651\n",
            "Epoch 53/100\n",
            "135/135 [==============================] - 10s 54ms/step - loss: 0.2807 - mae: 0.4642\n",
            "Epoch 54/100\n",
            "135/135 [==============================] - 10s 54ms/step - loss: 0.2827 - mae: 0.4667\n",
            "Epoch 55/100\n",
            "135/135 [==============================] - 10s 54ms/step - loss: 0.2772 - mae: 0.4611\n",
            "Epoch 56/100\n",
            "135/135 [==============================] - 10s 54ms/step - loss: 0.2764 - mae: 0.4605\n",
            "Epoch 57/100\n",
            "135/135 [==============================] - 10s 54ms/step - loss: 0.2742 - mae: 0.4586\n",
            "Epoch 58/100\n",
            "135/135 [==============================] - 10s 54ms/step - loss: 0.2728 - mae: 0.4574\n",
            "Epoch 59/100\n",
            "135/135 [==============================] - 10s 54ms/step - loss: 0.2732 - mae: 0.4581\n",
            "Epoch 60/100\n",
            "135/135 [==============================] - 10s 54ms/step - loss: 0.2723 - mae: 0.4577\n",
            "Epoch 61/100\n",
            "135/135 [==============================] - 10s 54ms/step - loss: 0.2704 - mae: 0.4560\n",
            "Epoch 62/100\n",
            "135/135 [==============================] - 10s 54ms/step - loss: 0.2690 - mae: 0.4548\n",
            "Epoch 63/100\n",
            "135/135 [==============================] - 10s 54ms/step - loss: 0.2670 - mae: 0.4529\n",
            "Epoch 64/100\n",
            "135/135 [==============================] - 10s 54ms/step - loss: 0.2747 - mae: 0.4620\n",
            "Epoch 65/100\n",
            "135/135 [==============================] - 10s 54ms/step - loss: 0.2655 - mae: 0.4519\n",
            "Epoch 66/100\n",
            "135/135 [==============================] - 10s 54ms/step - loss: 0.2699 - mae: 0.4572\n",
            "Epoch 67/100\n",
            "135/135 [==============================] - 10s 54ms/step - loss: 0.2624 - mae: 0.4492\n",
            "Epoch 68/100\n",
            "135/135 [==============================] - 10s 54ms/step - loss: 0.2614 - mae: 0.4485\n",
            "Epoch 69/100\n",
            "135/135 [==============================] - 10s 54ms/step - loss: 0.2686 - mae: 0.4570\n",
            "Epoch 70/100\n",
            "135/135 [==============================] - 10s 54ms/step - loss: 0.2593 - mae: 0.4468\n",
            "Epoch 71/100\n",
            "135/135 [==============================] - 10s 54ms/step - loss: 0.2590 - mae: 0.4468\n",
            "Epoch 72/100\n",
            "135/135 [==============================] - 10s 55ms/step - loss: 0.2573 - mae: 0.4452\n",
            "Epoch 73/100\n",
            "135/135 [==============================] - 10s 54ms/step - loss: 0.2548 - mae: 0.4427\n",
            "Epoch 74/100\n",
            "135/135 [==============================] - 10s 54ms/step - loss: 0.2530 - mae: 0.4408\n",
            "Epoch 75/100\n",
            "135/135 [==============================] - 10s 54ms/step - loss: 0.2534 - mae: 0.4418\n",
            "Epoch 76/100\n",
            "135/135 [==============================] - 10s 54ms/step - loss: 0.2518 - mae: 0.4402\n",
            "Epoch 77/100\n",
            "135/135 [==============================] - 10s 55ms/step - loss: 0.2497 - mae: 0.4382\n",
            "Epoch 78/100\n",
            "135/135 [==============================] - 10s 54ms/step - loss: 0.2475 - mae: 0.4361\n",
            "Epoch 79/100\n",
            "135/135 [==============================] - 10s 54ms/step - loss: 0.2481 - mae: 0.4371\n",
            "Epoch 80/100\n",
            "135/135 [==============================] - 10s 54ms/step - loss: 0.2460 - mae: 0.4350\n",
            "Epoch 81/100\n",
            "135/135 [==============================] - 10s 54ms/step - loss: 0.2483 - mae: 0.4378\n",
            "Epoch 82/100\n",
            "135/135 [==============================] - 10s 54ms/step - loss: 0.2437 - mae: 0.4328\n",
            "Epoch 83/100\n",
            "135/135 [==============================] - 10s 54ms/step - loss: 0.2524 - mae: 0.4431\n",
            "Epoch 84/100\n",
            "135/135 [==============================] - 10s 55ms/step - loss: 0.2409 - mae: 0.4304\n",
            "Epoch 85/100\n",
            "135/135 [==============================] - 10s 55ms/step - loss: 0.2403 - mae: 0.4297\n",
            "Epoch 86/100\n",
            "135/135 [==============================] - 10s 54ms/step - loss: 0.2394 - mae: 0.4291\n",
            "Epoch 87/100\n",
            "135/135 [==============================] - 10s 54ms/step - loss: 0.2386 - mae: 0.4286\n",
            "Epoch 88/100\n",
            "135/135 [==============================] - 10s 54ms/step - loss: 0.2386 - mae: 0.4288\n",
            "Epoch 89/100\n",
            "135/135 [==============================] - 10s 55ms/step - loss: 0.2386 - mae: 0.4292\n",
            "Epoch 90/100\n",
            "135/135 [==============================] - 10s 54ms/step - loss: 0.2382 - mae: 0.4289\n",
            "Epoch 91/100\n",
            "135/135 [==============================] - 10s 54ms/step - loss: 0.2365 - mae: 0.4270\n",
            "Epoch 92/100\n",
            "135/135 [==============================] - 10s 54ms/step - loss: 0.2344 - mae: 0.4248\n",
            "Epoch 93/100\n",
            "135/135 [==============================] - 10s 54ms/step - loss: 0.2358 - mae: 0.4266\n",
            "Epoch 94/100\n",
            "135/135 [==============================] - 10s 54ms/step - loss: 0.2385 - mae: 0.4299\n",
            "Epoch 95/100\n",
            "135/135 [==============================] - 10s 54ms/step - loss: 0.2317 - mae: 0.4223\n",
            "Epoch 96/100\n",
            "135/135 [==============================] - 10s 54ms/step - loss: 0.2313 - mae: 0.4223\n",
            "Epoch 97/100\n",
            "135/135 [==============================] - 10s 54ms/step - loss: 0.2302 - mae: 0.4210\n",
            "Epoch 98/100\n",
            "135/135 [==============================] - 10s 54ms/step - loss: 0.2297 - mae: 0.4206\n",
            "Epoch 99/100\n",
            "135/135 [==============================] - 10s 54ms/step - loss: 0.2288 - mae: 0.4198\n",
            "Epoch 100/100\n",
            "135/135 [==============================] - 10s 55ms/step - loss: 0.2272 - mae: 0.4182\n"
          ]
        }
      ]
    },
    {
      "cell_type": "code",
      "metadata": {
        "id": "GaC6NNMRp0lb"
      },
      "source": [
        "rnn_forecast = model_forecast(model, series[..., np.newaxis], window_size)\n",
        "rnn_forecast = rnn_forecast[split_time - window_size:-1, -1, 0]"
      ],
      "execution_count": null,
      "outputs": []
    },
    {
      "cell_type": "code",
      "metadata": {
        "id": "PrktQX3hKYex",
        "colab": {
          "base_uri": "https://localhost:8080/",
          "height": 388
        },
        "outputId": "56c7eb2a-b1d6-48b1-d573-63732aedaa34"
      },
      "source": [
        "plt.figure(figsize=(10, 6))\n",
        "plot_series(time_valid, x_valid)\n",
        "plot_series(time_valid, rnn_forecast)"
      ],
      "execution_count": null,
      "outputs": [
        {
          "output_type": "display_data",
          "data": {
            "image/png": "[encoded data removed]",
            "text/plain": [
              "<Figure size 720x432 with 1 Axes>"
            ]
          },
          "metadata": {
            "needs_background": "light"
          }
        }
      ]
    },
    {
      "cell_type": "code",
      "metadata": {
        "id": "13XrorC5wQoE",
        "colab": {
          "base_uri": "https://localhost:8080/"
        },
        "outputId": "7d5b0959-7fe0-44ce-93f6-d87ffae15f1c"
      },
      "source": [
        "tf.keras.metrics.mean_absolute_error(x_valid, rnn_forecast).numpy()"
      ],
      "execution_count": null,
      "outputs": [
        {
          "output_type": "execute_result",
          "data": {
            "text/plain": [
              "33.292637"
            ]
          },
          "metadata": {},
          "execution_count": 69
        }
      ]
    },
    {
      "cell_type": "code",
      "metadata": {
        "id": "MD2kyYUVt3O0",
        "colab": {
          "base_uri": "https://localhost:8080/",
          "height": 608
        },
        "outputId": "9db0111f-aa73-41bb-b268-76080f97730a"
      },
      "source": [
        "import matplotlib.image  as mpimg\n",
        "import matplotlib.pyplot as plt\n",
        "\n",
        "#-----------------------------------------------------------\n",
        "# Retrieve a list of list results on training and test data\n",
        "# sets for each training epoch\n",
        "#-----------------------------------------------------------\n",
        "loss=history.history['loss']\n",
        "\n",
        "epochs=range(len(loss)) # Get number of epochs\n",
        "\n",
        "\n",
        "#------------------------------------------------\n",
        "# Plot training and validation loss per epoch\n",
        "#------------------------------------------------\n",
        "plt.plot(epochs, loss, 'r')\n",
        "plt.title('Training loss')\n",
        "plt.xlabel(\"Epochs\")\n",
        "plt.ylabel(\"Loss\")\n",
        "plt.legend([\"Loss\"])\n",
        "\n",
        "plt.figure()\n",
        "\n",
        "\n",
        "\n",
        "zoomed_loss = loss[50:]\n",
        "zoomed_epochs = range(50,100)\n",
        "\n",
        "\n",
        "#------------------------------------------------\n",
        "# Plot training and validation loss per epoch\n",
        "#------------------------------------------------\n",
        "plt.plot(zoomed_epochs, zoomed_loss, 'r')\n",
        "plt.title('Training loss')\n",
        "plt.xlabel(\"Epochs\")\n",
        "plt.ylabel(\"Loss\")\n",
        "plt.legend([\"Loss\"])\n",
        "\n",
        "plt.figure()"
      ],
      "execution_count": null,
      "outputs": [
        {
          "output_type": "execute_result",
          "data": {
            "text/plain": [
              "<Figure size 432x288 with 0 Axes>"
            ]
          },
          "metadata": {},
          "execution_count": 70
        },
        {
          "output_type": "display_data",
          "data": {
            "image/png": "[encoded data removed]",
            "text/plain": [
              "<Figure size 432x288 with 1 Axes>"
            ]
          },
          "metadata": {
            "needs_background": "light"
          }
        },
        {
          "output_type": "display_data",
          "data": {
            "image/png": "[encoded data removed]",
            "text/plain": [
              "<Figure size 432x288 with 1 Axes>"
            ]
          },
          "metadata": {
            "needs_background": "light"
          }
        },
        {
          "output_type": "display_data",
          "data": {
            "text/plain": [
              "<Figure size 432x288 with 0 Axes>"
            ]
          },
          "metadata": {}
        }
      ]
    },
    {
      "cell_type": "code",
      "metadata": {
        "id": "AOVzQXxCwkzP",
        "colab": {
          "base_uri": "https://localhost:8080/"
        },
        "outputId": "f25ce5b4-f815-42e9-db33-59d0ae8d371b"
      },
      "source": [
        "print(rnn_forecast)"
      ],
      "execution_count": null,
      "outputs": [
        {
          "output_type": "stream",
          "name": "stdout",
          "text": [
            "[26.709074 26.71666  26.696066 ... 42.265114 42.27448  42.2738  ]\n"
          ]
        }
      ]
    }
  ]
}