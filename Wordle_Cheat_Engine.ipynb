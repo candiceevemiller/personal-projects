{
  "nbformat": 4,
  "nbformat_minor": 0,
  "metadata": {
    "colab": {
      "name": "Wordle Cheat Engine.ipynb",
      "provenance": [],
      "collapsed_sections": [],
      "authorship_tag": "ABX9TyNT9zgrufTTBQjo53UAD9Zm",
      "include_colab_link": true
    },
    "kernelspec": {
      "name": "python3",
      "display_name": "Python 3"
    },
    "language_info": {
      "name": "python"
    }
  },
  "cells": [
    {
      "cell_type": "markdown",
      "metadata": {
        "id": "view-in-github",
        "colab_type": "text"
      },
      "source": [
        "<a href=\"https://colab.research.google.com/github/candiceevemiller/personal-projects/blob/main/Wordle_Cheat_Engine.ipynb\" target=\"_parent\"><img src=\"https://colab.research.google.com/assets/colab-badge.svg\" alt=\"Open In Colab\"/></a>"
      ]
    },
    {
      "cell_type": "code",
      "execution_count": 12,
      "metadata": {
        "colab": {
          "base_uri": "https://localhost:8080/"
        },
        "id": "1J6o9qIoiCuN",
        "outputId": "8dc829d2-5aa4-4871-f650-dccf8e77977b"
      },
      "outputs": [
        {
          "output_type": "stream",
          "name": "stdout",
          "text": [
            "--2022-02-01 17:22:22--  https://raw.githubusercontent.com/a-vanderheiden/WordleLetterDistribution/main/WordleAnswers.txt\n",
            "Resolving raw.githubusercontent.com (raw.githubusercontent.com)... 185.199.109.133, 185.199.110.133, 185.199.111.133, ...\n",
            "Connecting to raw.githubusercontent.com (raw.githubusercontent.com)|185.199.109.133|:443... connected.\n",
            "HTTP request sent, awaiting response... 200 OK\n",
            "Length: 18521 (18K) [text/plain]\n",
            "Saving to: ‘WordleAnswers.txt.2’\n",
            "\n",
            "\rWordleAnswers.txt.2   0%[                    ]       0  --.-KB/s               \rWordleAnswers.txt.2 100%[===================>]  18.09K  --.-KB/s    in 0s      \n",
            "\n",
            "2022-02-01 17:22:22 (75.4 MB/s) - ‘WordleAnswers.txt.2’ saved [18521/18521]\n",
            "\n"
          ]
        }
      ],
      "source": [
        "!wget https://raw.githubusercontent.com/a-vanderheiden/WordleLetterDistribution/main/WordleAnswers.txt"
      ]
    },
    {
      "cell_type": "code",
      "source": [
        "wordle_answers = []\n",
        "with open('WordleAnswers.txt', 'r') as f:\n",
        "  for line in f:\n",
        "    for word in line[1:-1].split(','):\n",
        "      wordle_answers.append(word.strip('\"'))\n",
        "wordle_answers.sort()\n",
        "wordle_answers[:25]"
      ],
      "metadata": {
        "id": "w4YpVyLzif5d",
        "colab": {
          "base_uri": "https://localhost:8080/"
        },
        "outputId": "78610f1c-6a1b-42aa-856b-a10153878dec"
      },
      "execution_count": 13,
      "outputs": [
        {
          "output_type": "execute_result",
          "data": {
            "text/plain": [
              "['aback',\n",
              " 'abase',\n",
              " 'abate',\n",
              " 'abbey',\n",
              " 'abbot',\n",
              " 'abhor',\n",
              " 'abide',\n",
              " 'abled',\n",
              " 'abode',\n",
              " 'abort',\n",
              " 'about',\n",
              " 'above',\n",
              " 'abuse',\n",
              " 'abyss',\n",
              " 'acorn',\n",
              " 'acrid',\n",
              " 'actor',\n",
              " 'acute',\n",
              " 'adage',\n",
              " 'adapt',\n",
              " 'adept',\n",
              " 'admin',\n",
              " 'admit',\n",
              " 'adobe',\n",
              " 'adopt']"
            ]
          },
          "metadata": {},
          "execution_count": 13
        }
      ]
    },
    {
      "cell_type": "code",
      "source": [
        "import re\n",
        "def potential_answers(green: dict, yellow: dict, gray: str) -> list:\n",
        "  \"\"\"\n",
        "  Takes 2 dicts, green, yellow, and a string gray\n",
        "  example expected format:\n",
        "  green = {1:'a', 2:'', 3:'', 4:'', 5:'e'}\n",
        "  yellow = {1:'', 2:'ok', 3:'', 4: '', 5:''}\n",
        "  gray = 'brlm'\n",
        "  \"\"\"\n",
        "  search_sequence = ['.' for i in range(5)]\n",
        "  for key, val in green.items():\n",
        "    if val:\n",
        "      search_sequence[key-1] = val\n",
        "  in_word = ''\n",
        "  for key, val in yellow.items():\n",
        "    in_word += val\n",
        "    if val and search_sequence[key-1] == '.':\n",
        "      search_sequence[key-1] = '[^' + val + ']'\n",
        "  search_sequence = repr(''.join(search_sequence))[1:-1]\n",
        "  r = re.compile(search_sequence)\n",
        "  matches = list(filter(r.match, wordle_answers))\n",
        "  matches2 = []\n",
        "  for word in matches:\n",
        "    flag = True\n",
        "    for letter in in_word:\n",
        "      if letter not in word:\n",
        "        flag = False\n",
        "    if flag:\n",
        "      matches2.append(word)\n",
        "  final_matches = []\n",
        "  for word in matches2:\n",
        "    flag = True\n",
        "    for letter in gray:\n",
        "      if letter in word:\n",
        "        flag = False\n",
        "    if flag:\n",
        "      final_matches.append(word)\n",
        "  print('Your potential matches are:\\n')\n",
        "  return final_matches"
      ],
      "metadata": {
        "id": "XII4hIq_lChd"
      },
      "execution_count": 14,
      "outputs": []
    },
    {
      "cell_type": "code",
      "source": [
        "green = {1:'', 2:'', 3:'', 4:'', 5:'e'}\n",
        "yellow = {1:'s', 2:'et', 3:'', 4: '', 5:''}\n",
        "gray = 'paryl'\n",
        "potential_answers(green, yellow, gray)"
      ],
      "metadata": {
        "colab": {
          "base_uri": "https://localhost:8080/"
        },
        "id": "DVDTOK0cKFXJ",
        "outputId": "26fea943-ceba-4a41-8310-57a17d07ac1e"
      },
      "execution_count": 15,
      "outputs": [
        {
          "output_type": "stream",
          "name": "stdout",
          "text": [
            "Your potential matches are:\n",
            "\n"
          ]
        },
        {
          "output_type": "execute_result",
          "data": {
            "text/plain": [
              "['these', 'those']"
            ]
          },
          "metadata": {},
          "execution_count": 15
        }
      ]
    },
    {
      "cell_type": "code",
      "source": [
        "def get_green() -> dict:\n",
        "  \"\"\"\n",
        "  Gets and validates user input for green letters and formats for feeding into\n",
        "  the function potential_answers()\n",
        "  \"\"\"\n",
        "  green = {1:'', 2:'', 3:'', 4:'', 5:''}\n",
        "  print(\"Let's get your green letters:\")\n",
        "  print(\"-----------------------------\")\n",
        "  for i in range(1,6):\n",
        "    flag = 0\n",
        "    while flag != 'y' and flag != 'n':\n",
        "      flag = input(f'Do you know what letter is in spot {i}? (y/n)\\n')\n",
        "      if flag != 'y' and flag !='n':\n",
        "        print('Please only type y or n right now\\n')\n",
        "    if flag == 'y':\n",
        "      letter = '0'\n",
        "      while not letter.isalpha():\n",
        "        letter = input(f'What letter do you have for spot {i}?\\n')\n",
        "        if not letter.isalpha():\n",
        "          print('Please only type a letter right now')\n",
        "      green[i] = letter.lower()\n",
        "    else:\n",
        "      continue\n",
        "  return green"
      ],
      "metadata": {
        "id": "JIOwZICjKOqM"
      },
      "execution_count": 16,
      "outputs": []
    },
    {
      "cell_type": "code",
      "source": [
        "def get_yellow() -> dict:\n",
        "  \"\"\"\n",
        "  Gets and validates user input for yellow letters and formats for passing into\n",
        "  function potential_answers()\n",
        "  \"\"\"\n",
        "  yellow = {1:'', 2:'', 3:'', 4:'', 5:''}\n",
        "  print(\"Let's get your yellow letters:\")\n",
        "  print(\"-----------------------------\")\n",
        "  for i in range(1,6):\n",
        "    flag = 0\n",
        "    while flag != 'y' and flag != 'n':\n",
        "      flag = input(f'Do you know a yellow letter for spot {i}? (y/n)\\n')\n",
        "      if flag != 'y' and flag !='n':\n",
        "        print('Please only type y or n right now\\n')\n",
        "    if flag == 'y':\n",
        "      letter = '0'\n",
        "      while not letter.isalpha():\n",
        "        letter = input(f'What yellow letters do you know for spot {i}?\\n(Type all that apply)\\n')\n",
        "        if not letter.isalpha():\n",
        "          print('Please only type a letter right now')\n",
        "      yellow[i] = letter.lower()\n",
        "    else:\n",
        "      continue\n",
        "  return yellow"
      ],
      "metadata": {
        "id": "tbM_9vk1MyaR"
      },
      "execution_count": 17,
      "outputs": []
    },
    {
      "cell_type": "code",
      "source": [
        "def get_gray() -> str:\n",
        "  \"\"\"\n",
        "  Gets and validates user input for gray letters and formats for passing into\n",
        "  function potential_answers\n",
        "  \"\"\"\n",
        "  gray = ''\n",
        "  print(f\"Let's get your gray letters:\")\n",
        "  print('-----------------------------')\n",
        "  while not gray and not gray.isalpha():\n",
        "    gray = input(f'What are your gray letters?\\n(Type all that apply)\\n')\n",
        "    if not gray.isalpha():\n",
        "      print('Please only type letters')\n",
        "  return gray"
      ],
      "metadata": {
        "id": "KbNTF8PENQm-"
      },
      "execution_count": 18,
      "outputs": []
    },
    {
      "cell_type": "code",
      "source": [
        "green = get_green()\n",
        "yellow = get_yellow()\n",
        "gray = get_gray()\n",
        "\n",
        "potential_answers(green, yellow, gray)"
      ],
      "metadata": {
        "colab": {
          "base_uri": "https://localhost:8080/"
        },
        "id": "Z9Dv6ejTODXx",
        "outputId": "20a3047e-a216-4a76-f643-486909755fe5"
      },
      "execution_count": 19,
      "outputs": [
        {
          "output_type": "stream",
          "name": "stdout",
          "text": [
            "Let's get your green letters:\n",
            "-----------------------------\n",
            "Do you know what letter is in spot 1? (y/n)\n",
            "n\n",
            "Do you know what letter is in spot 2? (y/n)\n",
            "n\n",
            "Do you know what letter is in spot 3? (y/n)\n",
            "n\n",
            "Do you know what letter is in spot 4? (y/n)\n",
            "n\n",
            "Do you know what letter is in spot 5? (y/n)\n",
            "n\n",
            "Let's get your yellow letters:\n",
            "-----------------------------\n",
            "Do you know a yellow letter for spot 1? (y/n)\n",
            "n\n",
            "Do you know a yellow letter for spot 2? (y/n)\n",
            "y\n",
            "What yellow letters do you know for spot 2?\n",
            "(Type all that apply)\n",
            "e\n",
            "Do you know a yellow letter for spot 3? (y/n)\n",
            "n\n",
            "Do you know a yellow letter for spot 4? (y/n)\n",
            "n\n",
            "Do you know a yellow letter for spot 5? (y/n)\n",
            "y\n",
            "What yellow letters do you know for spot 5?\n",
            "(Type all that apply)\n",
            "s\n",
            "Let's get your gray letters:\n",
            "-----------------------------\n",
            "What are your gray letters?\n",
            "(Type all that apply)\n",
            "par\n",
            "Your potential matches are:\n",
            "\n"
          ]
        },
        {
          "output_type": "execute_result",
          "data": {
            "text/plain": [
              "['bused',\n",
              " 'chest',\n",
              " 'chose',\n",
              " 'close',\n",
              " 'ensue',\n",
              " 'exist',\n",
              " 'flesh',\n",
              " 'goose',\n",
              " 'guest',\n",
              " 'guise',\n",
              " 'house',\n",
              " 'islet',\n",
              " 'issue',\n",
              " 'loose',\n",
              " 'louse',\n",
              " 'moose',\n",
              " 'mouse',\n",
              " 'noise',\n",
              " 'noose',\n",
              " 'nosey',\n",
              " 'obese',\n",
              " 'onset',\n",
              " 'quest',\n",
              " 'scene',\n",
              " 'scent',\n",
              " 'scone',\n",
              " 'sheen',\n",
              " 'sheet',\n",
              " 'sheik',\n",
              " 'shelf',\n",
              " 'shell',\n",
              " 'shied',\n",
              " 'shine',\n",
              " 'shone',\n",
              " 'shove',\n",
              " 'siege',\n",
              " 'sieve',\n",
              " 'since',\n",
              " 'sinew',\n",
              " 'singe',\n",
              " 'sleek',\n",
              " 'sleet',\n",
              " 'slice',\n",
              " 'slide',\n",
              " 'slime',\n",
              " 'smell',\n",
              " 'smelt',\n",
              " 'smile',\n",
              " 'smite',\n",
              " 'smoke',\n",
              " 'smote',\n",
              " 'snide',\n",
              " 'solve',\n",
              " 'steed',\n",
              " 'steel',\n",
              " 'stein',\n",
              " 'stoke',\n",
              " 'stole',\n",
              " 'stone',\n",
              " 'stove',\n",
              " 'style',\n",
              " 'suite',\n",
              " 'sweet',\n",
              " 'swell',\n",
              " 'swine',\n",
              " 'these',\n",
              " 'those',\n",
              " 'unset',\n",
              " 'whose']"
            ]
          },
          "metadata": {},
          "execution_count": 19
        }
      ]
    }
  ]
}