{
  "nbformat": 4,
  "nbformat_minor": 0,
  "metadata": {
    "colab": {
      "name": "Wordle Cheat Engine.ipynb",
      "provenance": [],
      "collapsed_sections": [],
      "authorship_tag": "ABX9TyMfwOw3zDBMVc26TKA0rP3V",
      "include_colab_link": true
    },
    "kernelspec": {
      "name": "python3",
      "display_name": "Python 3"
    },
    "language_info": {
      "name": "python"
    }
  },
  "cells": [
    {
      "cell_type": "markdown",
      "metadata": {
        "id": "view-in-github",
        "colab_type": "text"
      },
      "source": [
        "<a href=\"https://colab.research.google.com/github/candiceevemiller/personal-projects/blob/main/Wordle_Cheat_Engine.ipynb\" target=\"_parent\"><img src=\"https://colab.research.google.com/assets/colab-badge.svg\" alt=\"Open In Colab\"/></a>"
      ]
    },
    {
      "cell_type": "code",
      "source": [
        "\"\"\"\n",
        "A program that takes your wordle clues and gives you potential matches from the\n",
        "official wordle answer bank\n",
        "\"\"\"\n",
        "\n",
        "import re"
      ],
      "metadata": {
        "id": "xlDNx5MWwA_X"
      },
      "execution_count": 23,
      "outputs": []
    },
    {
      "cell_type": "code",
      "source": [
        "# Loads wordle answers and stores in list\n",
        "!wget https://raw.githubusercontent.com/a-vanderheiden/WordleLetterDistribution/main/WordleAnswers.txt\n",
        "\n",
        "wordle_answers = []\n",
        "with open('WordleAnswers.txt', 'r') as f:\n",
        "    for line in f:\n",
        "        for word in line[1:-1].split(','):\n",
        "            wordle_answers.append(word.strip('\"'))\n",
        "wordle_answers.sort()\n",
        "print(f'Number of possible answers: {len(wordle_answers)}\\n')\n",
        "wordle_answers[:25]"
      ],
      "metadata": {
        "id": "w4YpVyLzif5d",
        "colab": {
          "base_uri": "https://localhost:8080/"
        },
        "outputId": "f0e84f1a-ce6c-49dd-cebf-bd624b02877f"
      },
      "execution_count": 35,
      "outputs": [
        {
          "output_type": "stream",
          "name": "stdout",
          "text": [
            "--2022-02-03 04:41:19--  https://raw.githubusercontent.com/a-vanderheiden/WordleLetterDistribution/main/WordleAnswers.txt\n",
            "Resolving raw.githubusercontent.com (raw.githubusercontent.com)... 185.199.108.133, 185.199.109.133, 185.199.110.133, ...\n",
            "Connecting to raw.githubusercontent.com (raw.githubusercontent.com)|185.199.108.133|:443... connected.\n",
            "HTTP request sent, awaiting response... 200 OK\n",
            "Length: 18521 (18K) [text/plain]\n",
            "Saving to: ‘WordleAnswers.txt.5’\n",
            "\n",
            "\rWordleAnswers.txt.5   0%[                    ]       0  --.-KB/s               \rWordleAnswers.txt.5 100%[===================>]  18.09K  --.-KB/s    in 0.001s  \n",
            "\n",
            "2022-02-03 04:41:19 (24.4 MB/s) - ‘WordleAnswers.txt.5’ saved [18521/18521]\n",
            "\n",
            "Number of possible answers: 2315\n",
            "\n"
          ]
        },
        {
          "output_type": "execute_result",
          "data": {
            "text/plain": [
              "['aback',\n",
              " 'abase',\n",
              " 'abate',\n",
              " 'abbey',\n",
              " 'abbot',\n",
              " 'abhor',\n",
              " 'abide',\n",
              " 'abled',\n",
              " 'abode',\n",
              " 'abort',\n",
              " 'about',\n",
              " 'above',\n",
              " 'abuse',\n",
              " 'abyss',\n",
              " 'acorn',\n",
              " 'acrid',\n",
              " 'actor',\n",
              " 'acute',\n",
              " 'adage',\n",
              " 'adapt',\n",
              " 'adept',\n",
              " 'admin',\n",
              " 'admit',\n",
              " 'adobe',\n",
              " 'adopt']"
            ]
          },
          "metadata": {},
          "execution_count": 35
        }
      ]
    },
    {
      "cell_type": "code",
      "source": [
        "# TODO: Refactor to take lists instead of dict for green and yellow\n",
        "#       update docstring and type hints to match\n",
        "# TODO: Refactor to remove repr, raw string unnecessary, needlessly complicated\n",
        "# TODO: Refactor control flows to better use filters & generators\n",
        "\n",
        "def potential_answers(green: dict, yellow: dict, gray: str) -> list:\n",
        "    \"\"\"\n",
        "    Takes 2 dicts, green, yellow, and a string gray\n",
        "    example expected format:\n",
        "    green = {1:'a', 2:'', 3:'', 4:'', 5:'e'}\n",
        "    yellow = {1:'', 2:'ok', 3:'', 4: '', 5:''}\n",
        "    gray = 'brlm'\n",
        "    \"\"\"\n",
        "\n",
        "    search_sequence = ['.' for i in range(5)]  # create list equivalent to string '.....'\n",
        "\n",
        "    # iterate over green dict and if the value isn't empty replace the character\n",
        "    # at the matching index in search_sequence\n",
        "    for key, val in green.items():\n",
        "        if val:\n",
        "            search_sequence[key-1] = val\n",
        "\n",
        "    # create an empty string to store letters we know are in the word but don't know where\n",
        "    # then we iterate over yellow dict and create a regex NOT term for each\n",
        "    # non-empty index and append the relavent terms to the in_word variable\n",
        "    # this way we know to look for words that have a letter but not at the Xth index\n",
        "    in_word = ''\n",
        "    for key, val in yellow.items():\n",
        "        in_word += val\n",
        "        if val and search_sequence[key-1] == '.':\n",
        "            search_sequence[key-1] = '[^' + val + ']'\n",
        "\n",
        "    # converts search_sequence list into a string then into a raw string and slices\n",
        "    # off the single quotes introduced through the repr function\n",
        "    search_sequence = repr(''.join(search_sequence))[1:-1]\n",
        "    r = re.compile(search_sequence)\n",
        "\n",
        "    # filters based on green known letters and which letters aren't at an index\n",
        "    # but doesn't enforce the presence of yellow letters\n",
        "    matches = list(filter(r.match, wordle_answers))\n",
        "\n",
        "    # iterate through each word in matches, then iterates through every letter\n",
        "    # we know must be in the word, if all letters are in the word we append the\n",
        "    # word to our matches2 list\n",
        "    matches2 = []\n",
        "    for word in matches:\n",
        "        flag = True\n",
        "        for letter in in_word:\n",
        "            if letter not in word:\n",
        "                flag = False\n",
        "        if flag:\n",
        "            matches2.append(word)\n",
        "\n",
        "    # iterate through every word in our matches2 list and then iterate through\n",
        "    # every letter we know NOT to be in the word. If it contains none of the gray\n",
        "    # letters we append our word to our final output list\n",
        "    final_matches = []\n",
        "    for word in matches2:\n",
        "        flag = True\n",
        "        for letter in gray:\n",
        "            if letter in word:\n",
        "                flag = False\n",
        "        if flag:\n",
        "            final_matches.append(word)\n",
        "            \n",
        "    print('\\nYour potential matches are:\\n')\n",
        "    return final_matches"
      ],
      "metadata": {
        "id": "XII4hIq_lChd"
      },
      "execution_count": 26,
      "outputs": []
    },
    {
      "cell_type": "code",
      "source": [
        "# Test case with actual guesses for wordle 227\n",
        "green = {1:'', 2:'', 3:'', 4:'', 5:'e'}\n",
        "yellow = {1:'s', 2:'et', 3:'', 4: '', 5:''}\n",
        "gray = 'paryl'\n",
        "potential_answers(green, yellow, gray)"
      ],
      "metadata": {
        "colab": {
          "base_uri": "https://localhost:8080/"
        },
        "id": "DVDTOK0cKFXJ",
        "outputId": "eb048556-41c9-4b05-9a9f-5584e2d912c2"
      },
      "execution_count": 27,
      "outputs": [
        {
          "output_type": "stream",
          "name": "stdout",
          "text": [
            "\n",
            "Your potential matches are:\n",
            "\n"
          ]
        },
        {
          "output_type": "execute_result",
          "data": {
            "text/plain": [
              "['these', 'those']"
            ]
          },
          "metadata": {},
          "execution_count": 27
        }
      ]
    },
    {
      "cell_type": "code",
      "source": [
        "# TODO: Refactor to return list instead of dict\n",
        "\n",
        "def get_green() -> dict:\n",
        "    \"\"\"\n",
        "    Gets and validates user input for green letters and formats for feeding into\n",
        "    the function potential_answers()\n",
        "    \"\"\"\n",
        "\n",
        "    green = {1:'', 2:'', 3:'', 4:'', 5:''}  # initialize green dict\n",
        "\n",
        "    print(\"\\nLet's get your green letters:\")\n",
        "    print(\"-----------------------------\")\n",
        "\n",
        "    for i in range(1, 6):\n",
        "        flag = ''  # helps us validate user, keeping us in the while loop if not y/n        \n",
        "\n",
        "        while flag != 'y' and flag != 'n':\n",
        "            flag = input(f'Do you know what letter is in spot {i}? (y/n)\\n')\n",
        "            if flag != 'y' and flag !='n':\n",
        "                print('Please only type y or n right now\\n')\n",
        "\n",
        "        if flag == 'y':\n",
        "            letter = ''\n",
        "            while not letter.isalpha() or len(letter) != 1:\n",
        "                letter = input(f'What letter do you have for spot {i}?\\n')\n",
        "                if not letter.isalpha() or len(letter) != 1:\n",
        "                    print('Please only type a letter right now')\n",
        "            # store standardized user input in the correct index of green dict\n",
        "            green[i] = letter.lower()\n",
        "\n",
        "    return green"
      ],
      "metadata": {
        "id": "JIOwZICjKOqM"
      },
      "execution_count": 28,
      "outputs": []
    },
    {
      "cell_type": "code",
      "source": [
        "# TODO: Refactor to return list instead of dict\n",
        "# TODO: Pass green to yellow to remove needless user entry\n",
        "\n",
        "def get_yellow(green: list) -> dict:\n",
        "    \"\"\"\n",
        "    Gets and validates user input for yellow letters and formats for passing into\n",
        "    function potential_answers()\n",
        "    \"\"\"\n",
        "\n",
        "    yellow = {1:'', 2:'', 3:'', 4:'', 5:''}\n",
        "\n",
        "    print(\"\\nLet's get your yellow letters:\")\n",
        "    print(\"-----------------------------\")\n",
        "\n",
        "    for i in range(1, 6):\n",
        "        flag = 0 # again helps us validate user input\n",
        "\n",
        "        while flag != 'y' and flag != 'n':\n",
        "            flag = input(f'Do you know a yellow letter for spot {i}? (y/n)\\n')\n",
        "            if flag != 'y' and flag !='n':\n",
        "                print('Please only type y or n right now\\n')\n",
        "\n",
        "        if flag == 'y':\n",
        "            letters = ''\n",
        "            while not letters.isalpha():\n",
        "                letters = input(f'What yellow letters do you know for spot {i}?\\n(Type all that apply)\\n')\n",
        "                if not letters.isalpha():\n",
        "                    print('Please only type a letter right now')\n",
        "            # stores standardized user input in correct index of yellow dict\n",
        "            yellow[i] = letters.lower()\n",
        "            \n",
        "    return yellow"
      ],
      "metadata": {
        "id": "tbM_9vk1MyaR"
      },
      "execution_count": 29,
      "outputs": []
    },
    {
      "cell_type": "code",
      "source": [
        "# TODO: get_gray() doesn't currently accept no letters.\n",
        "# allow get_gray() to return ''\n",
        "\n",
        "def get_gray() -> str:\n",
        "    \"\"\"\n",
        "    Gets and validates user input for gray letters and formats for passing into\n",
        "    function potential_answers\n",
        "    \"\"\"\n",
        "\n",
        "    gray = ''\n",
        "\n",
        "    print(f\"\\nLet's get your gray letters:\")\n",
        "    print('-----------------------------')\n",
        "\n",
        "    while not gray and not gray.isalpha():\n",
        "        gray = input(f'What are your gray letters?\\n(Type all that apply)\\n')\n",
        "        if not gray.isalpha() and gray != '':\n",
        "            print('Please only type letters')\n",
        "            \n",
        "    return gray.lower()"
      ],
      "metadata": {
        "id": "KbNTF8PENQm-"
      },
      "execution_count": 30,
      "outputs": []
    },
    {
      "cell_type": "code",
      "source": [
        "def get_answers():\n",
        "    \"\"\"Combines input functions and output function into one\"\"\"\n",
        "\n",
        "    green = get_green()\n",
        "    yellow = get_yellow(green)\n",
        "    gray = get_gray()\n",
        "\n",
        "    return potential_answers(green, yellow, gray)"
      ],
      "metadata": {
        "colab": {
          "base_uri": "https://localhost:8080/"
        },
        "id": "Z9Dv6ejTODXx",
        "outputId": "105cf90d-e717-4ba4-cf05-f4959ad8cb59"
      },
      "execution_count": 31,
      "outputs": [
        {
          "output_type": "stream",
          "name": "stdout",
          "text": [
            "\n",
            "Let's get your green letters:\n",
            "-----------------------------\n",
            "Do you know what letter is in spot 1? (y/n)\n",
            "y\n",
            "What letter do you have for spot 1?\n",
            "s\n",
            "Do you know what letter is in spot 2? (y/n)\n",
            "n\n",
            "Do you know what letter is in spot 3? (y/n)\n",
            "n\n",
            "Do you know what letter is in spot 4? (y/n)\n",
            "y\n",
            "What letter do you have for spot 4?\n",
            "t\n",
            "Do you know what letter is in spot 5? (y/n)\n",
            "n\n",
            "\n",
            "Let's get your yellow letters:\n",
            "-----------------------------\n",
            "Do you know a yellow letter for spot 1? (y/n)\n",
            "n\n",
            "Do you know a yellow letter for spot 2? (y/n)\n",
            "n\n",
            "Do you know a yellow letter for spot 3? (y/n)\n",
            "y\n",
            "What yellow letters do you know for spot 3?\n",
            "(Type all that apply)\n",
            "y\n",
            "Do you know a yellow letter for spot 4? (y/n)\n",
            "n\n",
            "Do you know a yellow letter for spot 5? (y/n)\n",
            "n\n",
            "\n",
            "Let's get your gray letters:\n",
            "-----------------------------\n",
            "What are your gray letters?\n",
            "(Type all that apply)\n",
            "q\n",
            "\n",
            "Your potential matches are:\n",
            "\n"
          ]
        },
        {
          "output_type": "execute_result",
          "data": {
            "text/plain": [
              "['salty', 'sixty', 'sooty']"
            ]
          },
          "metadata": {},
          "execution_count": 31
        }
      ]
    },
    {
      "cell_type": "code",
      "source": [
        "get_answers()"
      ],
      "metadata": {
        "id": "pnAUK4rH59GX"
      },
      "execution_count": null,
      "outputs": []
    }
  ]
}