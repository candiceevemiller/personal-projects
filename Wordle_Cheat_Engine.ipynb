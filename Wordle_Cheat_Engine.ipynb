{
  "nbformat": 4,
  "nbformat_minor": 0,
  "metadata": {
    "colab": {
      "name": "Wordle Cheat Engine.ipynb",
      "provenance": [],
      "collapsed_sections": [],
      "authorship_tag": "ABX9TyMHKGJPuxS/lzrCPXRUcnfz",
      "include_colab_link": true
    },
    "kernelspec": {
      "name": "python3",
      "display_name": "Python 3"
    },
    "language_info": {
      "name": "python"
    }
  },
  "cells": [
    {
      "cell_type": "markdown",
      "metadata": {
        "id": "view-in-github",
        "colab_type": "text"
      },
      "source": [
        "<a href=\"https://colab.research.google.com/github/candiceevemiller/personal-projects/blob/main/Wordle_Cheat_Engine.ipynb\" target=\"_parent\"><img src=\"https://colab.research.google.com/assets/colab-badge.svg\" alt=\"Open In Colab\"/></a>"
      ]
    },
    {
      "cell_type": "code",
      "source": [
        "\"\"\"\n",
        "A program that takes your wordle clues and gives you potential matches from the\n",
        "official wordle answer bank\n",
        "\"\"\"\n",
        "\n",
        "import re"
      ],
      "metadata": {
        "id": "xlDNx5MWwA_X"
      },
      "execution_count": 1,
      "outputs": []
    },
    {
      "cell_type": "code",
      "source": [
        "# Loads wordle answers and stores in list\n",
        "!wget https://raw.githubusercontent.com/a-vanderheiden/WordleLetterDistribution/main/WordleAnswers.txt\n",
        "\n",
        "wordle_answers = []\n",
        "with open('WordleAnswers.txt', 'r') as f:\n",
        "    for line in f:\n",
        "        for word in line[1:-1].split(','):\n",
        "            wordle_answers.append(word.strip('\"'))\n",
        "wordle_answers.sort()\n",
        "print(f'Number of possible answers: {len(wordle_answers)}\\n')\n",
        "wordle_answers[:25]"
      ],
      "metadata": {
        "id": "w4YpVyLzif5d",
        "colab": {
          "base_uri": "https://localhost:8080/"
        },
        "outputId": "02e0b04c-f6c2-477c-ab81-60c92e5eaede"
      },
      "execution_count": 2,
      "outputs": [
        {
          "output_type": "stream",
          "name": "stdout",
          "text": [
            "--2022-02-05 23:45:01--  https://raw.githubusercontent.com/a-vanderheiden/WordleLetterDistribution/main/WordleAnswers.txt\n",
            "Resolving raw.githubusercontent.com (raw.githubusercontent.com)... 185.199.111.133, 185.199.109.133, 185.199.110.133, ...\n",
            "Connecting to raw.githubusercontent.com (raw.githubusercontent.com)|185.199.111.133|:443... connected.\n",
            "HTTP request sent, awaiting response... 200 OK\n",
            "Length: 18521 (18K) [text/plain]\n",
            "Saving to: ‘WordleAnswers.txt’\n",
            "\n",
            "WordleAnswers.txt   100%[===================>]  18.09K  --.-KB/s    in 0s      \n",
            "\n",
            "2022-02-05 23:45:01 (44.4 MB/s) - ‘WordleAnswers.txt’ saved [18521/18521]\n",
            "\n",
            "Number of possible answers: 2315\n",
            "\n"
          ]
        },
        {
          "output_type": "execute_result",
          "data": {
            "text/plain": [
              "['aback',\n",
              " 'abase',\n",
              " 'abate',\n",
              " 'abbey',\n",
              " 'abbot',\n",
              " 'abhor',\n",
              " 'abide',\n",
              " 'abled',\n",
              " 'abode',\n",
              " 'abort',\n",
              " 'about',\n",
              " 'above',\n",
              " 'abuse',\n",
              " 'abyss',\n",
              " 'acorn',\n",
              " 'acrid',\n",
              " 'actor',\n",
              " 'acute',\n",
              " 'adage',\n",
              " 'adapt',\n",
              " 'adept',\n",
              " 'admin',\n",
              " 'admit',\n",
              " 'adobe',\n",
              " 'adopt']"
            ]
          },
          "metadata": {},
          "execution_count": 2
        }
      ]
    },
    {
      "cell_type": "code",
      "source": [
        "def handle_duplicate_letters(green: list, yellow: list, gray: str) -> set:\n",
        "    \"\"\"\n",
        "    In wordle doubled letters that are only matched once can return one green\n",
        "    or yellow and the other gray. In order to handle this we convert our clues\n",
        "    to sets and find the difference of them so that only the letters that are\n",
        "    only in gray will filter our possible answers.\n",
        "    \"\"\"\n",
        "\n",
        "    green_set = set(green)\n",
        "    yellow_set = set(yellow)\n",
        "    gray_set = set(gray)\n",
        "    gray = (gray_set - yellow_set) - green_set\n",
        "    return gray"
      ],
      "metadata": {
        "id": "RL_Drv4CP471"
      },
      "execution_count": 3,
      "outputs": []
    },
    {
      "cell_type": "code",
      "source": [
        "# TODO: Refactor control flows to better use filters & generators & use all func\n",
        "\n",
        "def potential_answers(green: list, yellow: list, gray: str) -> list:\n",
        "    \"\"\"\n",
        "    Takes 2 lists, green, yellow, and a string gray\n",
        "    example expected format:\n",
        "    green = ['a', '', '', '', '', 'e']\n",
        "    yellow = ['', 'ok', '', '', '']\n",
        "    gray = 'brlm'\n",
        "    \"\"\"\n",
        "\n",
        "    gray = handle_duplicate_letters(green, yellow, gray)\n",
        "\n",
        "    search_sequence = ['.' for i in range(5)]  # create list equivalent to string '.....'\n",
        "\n",
        "    # iterate over green list and if the value isn't empty replace the character\n",
        "    # at the matching index in search_sequence\n",
        "    for key, val in enumerate(green):\n",
        "        if val:\n",
        "            search_sequence[key] = val\n",
        "\n",
        "    # create an empty string to store letters we know are in the word but don't\n",
        "    # know where then we iterate over yellow list and create a regex NOT term\n",
        "    # for each non-empty index and append the relavent terms to the in_word\n",
        "    # variable this way we know to look for words that have a letter but not at\n",
        "    # the Xth index\n",
        "    in_word = ''\n",
        "    for key, val in enumerate(yellow):\n",
        "        in_word += val\n",
        "        if val and search_sequence[key] == '.':\n",
        "            search_sequence[key] = '[^' + val + ']'\n",
        "    search_sequence = ''.join(search_sequence)\n",
        "    r = re.compile(search_sequence)\n",
        "\n",
        "    # filters based on green known letters and which letters aren't at an index\n",
        "    # but doesn't enforce the presence of yellow letters\n",
        "    regex_matches = list(filter(r.match, wordle_answers))\n",
        "\n",
        "    # iterate through each word in regex_matches, then iterates through every\n",
        "    # letter we know must be in the word, if all letters are in the word we\n",
        "    # append the word to our yellow_and_green_matches list\n",
        "    yellow_and_green_matches = []\n",
        "    for word in regex_matches:\n",
        "        flag = True\n",
        "        for letter in in_word:\n",
        "            if letter not in word:\n",
        "                flag = False\n",
        "        if flag:\n",
        "            yellow_and_green_matches.append(word)\n",
        "\n",
        "    # iterate through every word in our yellow_and_green_matches list and then\n",
        "    # iterate through every letter we know NOT to be in the word. If it contains\n",
        "    # none of the gray letters we append our word to our final output list\n",
        "    final_matches = []\n",
        "    for word in yellow_and_green_matches:\n",
        "        flag = True\n",
        "        for letter in gray:\n",
        "            if letter in word:\n",
        "                flag = False\n",
        "        if flag:\n",
        "            final_matches.append(word)\n",
        "            \n",
        "    print('\\nYour potential matches are:\\n')\n",
        "    return final_matches"
      ],
      "metadata": {
        "id": "XII4hIq_lChd"
      },
      "execution_count": 4,
      "outputs": []
    },
    {
      "cell_type": "code",
      "source": [
        "# Test case with actual guesses for wordle 227\n",
        "green = ['', '', '', 's', 'e']\n",
        "yellow = ['s', 'et', '', '', '']\n",
        "gray = 'paryls'\n",
        "potential_answers(green, yellow, gray)"
      ],
      "metadata": {
        "colab": {
          "base_uri": "https://localhost:8080/"
        },
        "id": "DVDTOK0cKFXJ",
        "outputId": "2fd7992e-6897-495d-9685-b9389612f90d"
      },
      "execution_count": 5,
      "outputs": [
        {
          "output_type": "stream",
          "name": "stdout",
          "text": [
            "\n",
            "Your potential matches are:\n",
            "\n"
          ]
        },
        {
          "output_type": "execute_result",
          "data": {
            "text/plain": [
              "['these', 'those']"
            ]
          },
          "metadata": {},
          "execution_count": 5
        }
      ]
    },
    {
      "cell_type": "code",
      "source": [
        "def get_green() -> list:\n",
        "    \"\"\"\n",
        "    Gets and validates user input for green letters and formats for feeding into\n",
        "    the function potential_answers()\n",
        "    \"\"\"\n",
        "\n",
        "    green = ['']*5 # initialize green list\n",
        "\n",
        "    print(\"\\nLet's get your green letters:\")\n",
        "    print(\"-----------------------------\")\n",
        "\n",
        "    for i in range(5):\n",
        "        flag = ''  # helps us validate user, keeping us in the while loop if not y/n        \n",
        "\n",
        "        while flag != 'y' and flag != 'n':\n",
        "            flag = input(f'Do you know what letter is in spot {i+1}? (y/n)\\n')\n",
        "            if flag != 'y' and flag !='n':\n",
        "                print('Please only type y or n right now\\n')\n",
        "\n",
        "        if flag == 'y':\n",
        "            letter = ''\n",
        "            while not letter.isalpha() or len(letter) != 1:\n",
        "                letter = input(f'What letter do you have for spot {i+1}?\\n')\n",
        "                if not letter.isalpha() or len(letter) != 1:\n",
        "                    print('Please only type a letter right now')\n",
        "            # store standardized user input in the correct index of green dict\n",
        "            green[i] = letter.lower()\n",
        "\n",
        "    return green"
      ],
      "metadata": {
        "id": "JIOwZICjKOqM"
      },
      "execution_count": 6,
      "outputs": []
    },
    {
      "cell_type": "code",
      "source": [
        "def get_yellow() -> list:\n",
        "    \"\"\"\n",
        "    Gets and validates user input for yellow letters and formats for passing into\n",
        "    function potential_answers()\n",
        "    \"\"\"\n",
        "\n",
        "    yellow = ['']*5  # initialize yellow list\n",
        "\n",
        "    print(\"\\nLet's get your yellow letters:\")\n",
        "    print(\"-----------------------------\")\n",
        "\n",
        "    for i in range(5):\n",
        "        flag = '' # again helps us validate user input\n",
        "\n",
        "        while flag != 'y' and flag != 'n':\n",
        "            flag = input(f'Do you know any yellow letters for spot {i+1}? (y/n)\\n')\n",
        "            if flag != 'y' and flag !='n':\n",
        "                print('Please only type y or n right now\\n')\n",
        "\n",
        "        if flag == 'y':\n",
        "            letters = ''\n",
        "            while not letters.isalpha():\n",
        "                letters = input(f'What yellow letters do you know for spot {i+1}?\\n(Type all that apply)\\n')\n",
        "                if not letters.isalpha():\n",
        "                    print('Please only type a letter right now')\n",
        "            # stores standardized user input in correct index of yellow dict\n",
        "            yellow[i] = letters.lower()\n",
        "            \n",
        "    return yellow"
      ],
      "metadata": {
        "id": "tbM_9vk1MyaR"
      },
      "execution_count": 7,
      "outputs": []
    },
    {
      "cell_type": "code",
      "source": [
        "def get_gray() -> str:\n",
        "    \"\"\"\n",
        "    Gets and validates user input for gray letters and formats for passing into\n",
        "    function potential_answers\n",
        "    \"\"\"\n",
        "\n",
        "    gray = ''\n",
        "\n",
        "    print(f\"\\nLet's get your gray letters:\")\n",
        "    print('-----------------------------')\n",
        "\n",
        "    do_you_know_gray_letters = ''\n",
        "    while do_you_know_gray_letters != 'y' and do_you_know_gray_letters != 'n':\n",
        "        do_you_know_gray_letters = input('Do you know any gray letters? (y/n)\\n')\n",
        "    \n",
        "    if do_you_know_gray_letters == 'y':\n",
        "        while not gray and not gray.isalpha():\n",
        "            gray = input(f'What are your gray letters?\\n(Type all that apply)\\n')\n",
        "            if not gray.isalpha() and gray != '':\n",
        "                print('Please only type letters')\n",
        "            \n",
        "    return gray.lower()"
      ],
      "metadata": {
        "id": "KbNTF8PENQm-"
      },
      "execution_count": 8,
      "outputs": []
    },
    {
      "cell_type": "code",
      "source": [
        "def get_answers():\n",
        "    \"\"\"Combines input functions and output function into one\"\"\"\n",
        "\n",
        "    green = get_green()\n",
        "    yellow = get_yellow()\n",
        "    gray = get_gray()\n",
        "\n",
        "    return potential_answers(green, yellow, gray)"
      ],
      "metadata": {
        "id": "Z9Dv6ejTODXx"
      },
      "execution_count": 9,
      "outputs": []
    },
    {
      "cell_type": "code",
      "source": [
        "get_answers()"
      ],
      "metadata": {
        "id": "pnAUK4rH59GX",
        "colab": {
          "base_uri": "https://localhost:8080/"
        },
        "outputId": "067afd9d-fc1c-43c9-dca8-b437fbc46582"
      },
      "execution_count": 10,
      "outputs": [
        {
          "output_type": "stream",
          "name": "stdout",
          "text": [
            "\n",
            "Let's get your green letters:\n",
            "-----------------------------\n",
            "Do you know what letter is in spot 1? (y/n)\n",
            "n\n",
            "Do you know what letter is in spot 2? (y/n)\n",
            "y\n",
            "What letter do you have for spot 2?\n",
            "l\n",
            "Do you know what letter is in spot 3? (y/n)\n",
            "n\n",
            "Do you know what letter is in spot 4? (y/n)\n",
            "n\n",
            "Do you know what letter is in spot 5? (y/n)\n",
            "n\n",
            "\n",
            "Let's get your yellow letters:\n",
            "-----------------------------\n",
            "Do you know any yellow letters for spot 1? (y/n)\n",
            "y\n",
            "What yellow letters do you know for spot 1?\n",
            "(Type all that apply)\n",
            "f\n",
            "Do you know any yellow letters for spot 2? (y/n)\n",
            "n\n",
            "Do you know any yellow letters for spot 3? (y/n)\n",
            "y\n",
            "What yellow letters do you know for spot 3?\n",
            "(Type all that apply)\n",
            "a\n",
            "Do you know any yellow letters for spot 4? (y/n)\n",
            "n\n",
            "Do you know any yellow letters for spot 5? (y/n)\n",
            "n\n",
            "\n",
            "Let's get your gray letters:\n",
            "-----------------------------\n",
            "Do you know any gray letters? (y/n)\n",
            "persck\n",
            "Do you know any gray letters? (y/n)\n",
            "y\n",
            "What are your gray letters?\n",
            "(Type all that apply)\n",
            "persck\n",
            "\n",
            "Your potential matches are:\n",
            "\n"
          ]
        },
        {
          "output_type": "execute_result",
          "data": {
            "text/plain": [
              "['aloft', 'aloof']"
            ]
          },
          "metadata": {},
          "execution_count": 10
        }
      ]
    }
  ]
}