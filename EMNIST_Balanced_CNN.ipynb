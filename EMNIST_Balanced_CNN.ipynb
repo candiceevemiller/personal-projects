{
  "nbformat": 4,
  "nbformat_minor": 0,
  "metadata": {
    "colab": {
      "name": "EMNIST CNN.ipynb",
      "provenance": [],
      "authorship_tag": "ABX9TyPoYr0Jd8o/bOhAsXgpHIrC",
      "include_colab_link": true
    },
    "kernelspec": {
      "name": "python3",
      "display_name": "Python 3"
    },
    "language_info": {
      "name": "python"
    },
    "accelerator": "GPU"
  },
  "cells": [
    {
      "cell_type": "markdown",
      "metadata": {
        "id": "view-in-github",
        "colab_type": "text"
      },
      "source": [
        "<a href=\"https://colab.research.google.com/github/candiceevemiller/personal-projects/blob/main/EMNIST_Balanced_CNN.ipynb\" target=\"_parent\"><img src=\"https://colab.research.google.com/assets/colab-badge.svg\" alt=\"Open In Colab\"/></a>"
      ]
    },
    {
      "cell_type": "code",
      "metadata": {
        "colab": {
          "base_uri": "https://localhost:8080/"
        },
        "id": "fK71w5ftPpyW",
        "outputId": "3f532da0-cd28-424e-e666-7cc21f8a03f5"
      },
      "source": [
        "import tensorflow as tf\n",
        "from tensorflow import keras\n",
        "from tensorflow.keras import layers\n",
        "%matplotlib inline\n",
        "import matplotlib.pyplot as plt\n",
        "import pandas as pd\n",
        "import numpy as np\n",
        "\n",
        "from sklearn.datasets import fetch_openml\n",
        "\n",
        "emnist = fetch_openml('EMNIST_Balanced')\n",
        "emnist.keys()"
      ],
      "execution_count": 1,
      "outputs": [
        {
          "output_type": "execute_result",
          "data": {
            "text/plain": [
              "dict_keys(['data', 'target', 'frame', 'feature_names', 'target_names', 'DESCR', 'details', 'categories', 'url'])"
            ]
          },
          "metadata": {},
          "execution_count": 1
        }
      ]
    },
    {
      "cell_type": "code",
      "metadata": {
        "colab": {
          "base_uri": "https://localhost:8080/"
        },
        "id": "o4LBmgpXQhnS",
        "outputId": "e02f304b-323a-4720-a6a3-0d7ffc6dd19b"
      },
      "source": [
        "X, y = emnist['data'], emnist['target']\n",
        "X.shape"
      ],
      "execution_count": 2,
      "outputs": [
        {
          "output_type": "execute_result",
          "data": {
            "text/plain": [
              "(131600, 784)"
            ]
          },
          "metadata": {},
          "execution_count": 2
        }
      ]
    },
    {
      "cell_type": "code",
      "metadata": {
        "colab": {
          "base_uri": "https://localhost:8080/"
        },
        "id": "6LtyKDetQpZW",
        "outputId": "af3ece72-1afa-499d-add5-0eb046bd3317"
      },
      "source": [
        "y.shape"
      ],
      "execution_count": 3,
      "outputs": [
        {
          "output_type": "execute_result",
          "data": {
            "text/plain": [
              "(131600,)"
            ]
          },
          "metadata": {},
          "execution_count": 3
        }
      ]
    },
    {
      "cell_type": "code",
      "metadata": {
        "id": "KsuoC6CoQs2b"
      },
      "source": [
        "from sklearn.model_selection import StratifiedShuffleSplit\n",
        "\n",
        "sss = StratifiedShuffleSplit(n_splits=5, test_size=0.2, random_state=42)\n",
        "\n",
        "for train_index, test_index in sss.split(X, y):\n",
        "  X_train_full, X_test = X[train_index], X[test_index]\n",
        "  y_train_full, y_test = y[train_index], y[test_index]\n",
        "\n",
        "for train_index, val_index in sss.split(X_train_full, y_train_full):\n",
        "  X_train, X_val = X_train_full[train_index], X_train_full[val_index]\n",
        "  y_train, y_val = y_train_full[train_index], y_train_full[val_index]"
      ],
      "execution_count": 4,
      "outputs": []
    },
    {
      "cell_type": "code",
      "metadata": {
        "id": "nXM62lLUUbuY"
      },
      "source": [
        "features = {0:'0', 1:'1', 2:'2', 3:'3', 4:'4', 5:'5', 6:'6', 7:'7', 8:'8', 9:'9',\n",
        "            10:'A', 11:'B', 12:'C', 13:'D', 14:'E', 15:'F', 16:'G', 17:'H', 18:'I',\n",
        "            19:'J', 20:'K', 21:'L', 22:'M', 23:'N', 24:'O', 25:'P', 26:'Q', 27:'R',\n",
        "            28:'S', 29:'T', 30:'U', 31:'V', 32:'W', 33:'X', 34:'Y', 35:'Z', 36:'a',\n",
        "            37:'b', 38:'d', 39:'e', 40:'f', 41:'g', 42:'h', 43:'n', 44:'q', 45:'r',\n",
        "            46:'t'}"
      ],
      "execution_count": 5,
      "outputs": []
    },
    {
      "cell_type": "code",
      "metadata": {
        "colab": {
          "base_uri": "https://localhost:8080/",
          "height": 264
        },
        "id": "Q1bgbvyJR8ND",
        "outputId": "efa39b77-af6d-454b-cffc-04cd56b76b79"
      },
      "source": [
        "index = np.random.randint(0,X_train.shape[0])\n",
        "some_char = X_train[index]\n",
        "some_char_image = some_char.reshape(28,28)\n",
        "some_char_image = tf.transpose(some_char_image).numpy()\n",
        "plt.imshow(some_char_image, cmap='Greys')\n",
        "plt.title(f\"Value: {features[int(y_train[index])]}\")\n",
        "plt.axis('off')\n",
        "plt.show()"
      ],
      "execution_count": 6,
      "outputs": [
        {
          "output_type": "display_data",
          "data": {
            "image/png": "[encoded data removed]",
            "text/plain": [
              "<Figure size 432x288 with 1 Axes>"
            ]
          },
          "metadata": {
            "needs_background": "light"
          }
        }
      ]
    },
    {
      "cell_type": "code",
      "metadata": {
        "colab": {
          "base_uri": "https://localhost:8080/"
        },
        "id": "WSno48tKdBYq",
        "outputId": "ef52d783-5b83-4ad3-9c29-6658a8fb59ac"
      },
      "source": [
        "from tensorflow.keras import backend as k\n",
        "img_rows = 28\n",
        "img_cols = 28\n",
        "#reshaping\n",
        "#this assumes our data format\n",
        "#For 3D data, \"channels_last\" assumes (conv_dim1, conv_dim2, conv_dim3, channels) while \n",
        "#\"channels_first\" assumes (channels, conv_dim1, conv_dim2, conv_dim3).\n",
        "if k.image_data_format() == 'channels_first':\n",
        "    X_train = X_train.reshape(X_train.shape[0], 1, img_rows, img_cols)\n",
        "    X_test = X_test.reshape(X_test.shape[0], 1, img_rows, img_cols)\n",
        "    X_val = X_val.reshape(X_val.shape[0], 1, img_rows, img_cols)\n",
        "    input_shape = (1, img_rows, img_cols)\n",
        "else:\n",
        "    X_train = X_train.reshape(X_train.shape[0], img_rows, img_cols, 1)\n",
        "    X_test = X_test.reshape(X_test.shape[0], img_rows, img_cols, 1)\n",
        "    X_val = X_val.reshape(X_val.shape[0], img_rows, img_cols, 1)\n",
        "    input_shape = (img_rows, img_cols, 1)\n",
        "#more reshaping\n",
        "X_train = X_train.astype('float32')\n",
        "X_val = X_val.astype('float32')\n",
        "X_test = X_test.astype('float32')\n",
        "X_train /= 255\n",
        "X_val /= 255\n",
        "X_test /= 255\n",
        "print('X_train shape:', X_train.shape)"
      ],
      "execution_count": 7,
      "outputs": [
        {
          "output_type": "stream",
          "name": "stdout",
          "text": [
            "X_train shape: (84224, 28, 28, 1)\n"
          ]
        }
      ]
    },
    {
      "cell_type": "code",
      "metadata": {
        "id": "qn9mCj6zdiv5"
      },
      "source": [
        "y_train = keras.utils.to_categorical(y_train, 47)\n",
        "y_test = keras.utils.to_categorical(y_test, 47)\n",
        "y_val = keras.utils.to_categorical(y_val, 47)"
      ],
      "execution_count": 8,
      "outputs": []
    },
    {
      "cell_type": "code",
      "metadata": {
        "id": "luWebYIbYHHd"
      },
      "source": [
        "model = keras.models.Sequential([\n",
        "  layers.Conv2D(28, (2,2), kernel_initializer='he_uniform', padding='same', input_shape=(28,28,1)),\n",
        "  layers.BatchNormalization(),\n",
        "  layers.Activation('selu'),\n",
        "  layers.Conv2D(28, (2,2), kernel_initializer='he_uniform', padding='same'),\n",
        "  layers.BatchNormalization(),\n",
        "  layers.Activation('selu'),\n",
        "  layers.MaxPooling2D((2,2)),\n",
        "  layers.BatchNormalization(),\n",
        "  layers.Dropout(0.2),\n",
        "  layers.Conv2D(56, (2,2), kernel_initializer='he_uniform', padding='same'),\n",
        "  layers.BatchNormalization(),\n",
        "  layers.Activation('selu'),\n",
        "  layers.Conv2D(56, (2,2), kernel_initializer='he_uniform', padding='same'),\n",
        "  layers.BatchNormalization(),\n",
        "  layers.Activation('selu'),\n",
        "  layers.MaxPooling2D((2,2)),\n",
        "  layers.BatchNormalization(),\n",
        "  layers.Activation('selu'),\n",
        "  layers.Dropout(0.2),\n",
        "  layers.Conv2D(112, (2,2), kernel_initializer='he_uniform', padding='same'),\n",
        "  layers.BatchNormalization(),\n",
        "  layers.Activation('selu'),\n",
        "  layers.Conv2D(112, (2,2), kernel_initializer='he_uniform', padding='same'),\n",
        "  layers.BatchNormalization(),\n",
        "  layers.Activation('selu'),\n",
        "  layers.MaxPooling2D((2,2)),\n",
        "  layers.BatchNormalization(),\n",
        "  layers.Dropout(0.2),\n",
        "  layers.Flatten(),\n",
        "  layers.Dense(128, kernel_initializer='he_uniform', kernel_regularizer='l2'),\n",
        "  layers.BatchNormalization(),\n",
        "  layers.AlphaDropout(0.2),\n",
        "  layers.Activation('selu'),\n",
        "  layers.Dense(128, kernel_initializer='he_uniform', kernel_regularizer='l2'),\n",
        "  layers.BatchNormalization(),\n",
        "  layers.AlphaDropout(0.2),\n",
        "  layers.Activation('selu'),\n",
        "  layers.Dense(47, activation='softmax')\n",
        "])"
      ],
      "execution_count": 42,
      "outputs": []
    },
    {
      "cell_type": "code",
      "metadata": {
        "id": "7u1e6HAkbLm-"
      },
      "source": [
        "INIT_LR = 5e-3\n",
        "BATCH_SIZE = 2000\n",
        "EPOCHS = 200\n",
        "\n",
        "model.compile(loss='categorical_crossentropy', optimizer=keras.optimizers.Adamax(learning_rate=INIT_LR), metrics=['accuracy'])\n",
        "\n",
        "checkpoint_cb = keras.callbacks.ModelCheckpoint('emnistCNN.h5', save_best_only=True)\n",
        "early_stopping_cb = keras.callbacks.EarlyStopping(patience=10, restore_best_weights=True)"
      ],
      "execution_count": 43,
      "outputs": []
    },
    {
      "cell_type": "code",
      "metadata": {
        "colab": {
          "base_uri": "https://localhost:8080/"
        },
        "id": "6lgdOYTrbVT3",
        "outputId": "dca7aba9-2e69-49ce-8690-f48bb0d65bdb"
      },
      "source": [
        "history = model.fit(\n",
        "    X_train, y_train,\n",
        "    batch_size=BATCH_SIZE,\n",
        "    epochs=EPOCHS,\n",
        "    validation_data=(X_val, y_val),\n",
        "    shuffle=True,\n",
        "    callbacks=[checkpoint_cb, early_stopping_cb]\n",
        ")"
      ],
      "execution_count": 44,
      "outputs": [
        {
          "output_type": "stream",
          "name": "stdout",
          "text": [
            "Epoch 1/200\n",
            "43/43 [==============================] - 6s 110ms/step - loss: 4.0011 - accuracy: 0.4795 - val_loss: 3.0449 - val_accuracy: 0.4516\n",
            "Epoch 2/200\n",
            "43/43 [==============================] - 4s 103ms/step - loss: 1.2191 - accuracy: 0.7342 - val_loss: 0.8261 - val_accuracy: 0.8021\n",
            "Epoch 3/200\n",
            "43/43 [==============================] - 4s 103ms/step - loss: 0.8622 - accuracy: 0.7749 - val_loss: 0.7162 - val_accuracy: 0.8098\n",
            "Epoch 4/200\n",
            "43/43 [==============================] - 4s 103ms/step - loss: 0.7455 - accuracy: 0.7969 - val_loss: 0.6844 - val_accuracy: 0.8185\n",
            "Epoch 5/200\n",
            "43/43 [==============================] - 4s 103ms/step - loss: 0.6815 - accuracy: 0.8115 - val_loss: 0.6316 - val_accuracy: 0.8265\n",
            "Epoch 6/200\n",
            "43/43 [==============================] - 4s 103ms/step - loss: 0.6452 - accuracy: 0.8194 - val_loss: 0.5792 - val_accuracy: 0.8338\n",
            "Epoch 7/200\n",
            "43/43 [==============================] - 4s 103ms/step - loss: 0.6186 - accuracy: 0.8261 - val_loss: 0.5109 - val_accuracy: 0.8538\n",
            "Epoch 8/200\n",
            "43/43 [==============================] - 4s 102ms/step - loss: 0.5924 - accuracy: 0.8319 - val_loss: 0.4982 - val_accuracy: 0.8589\n",
            "Epoch 9/200\n",
            "43/43 [==============================] - 4s 103ms/step - loss: 0.5829 - accuracy: 0.8348 - val_loss: 0.4874 - val_accuracy: 0.8663\n",
            "Epoch 10/200\n",
            "43/43 [==============================] - 4s 103ms/step - loss: 0.5637 - accuracy: 0.8401 - val_loss: 0.4980 - val_accuracy: 0.8635\n",
            "Epoch 11/200\n",
            "43/43 [==============================] - 4s 102ms/step - loss: 0.5507 - accuracy: 0.8430 - val_loss: 0.4794 - val_accuracy: 0.8655\n",
            "Epoch 12/200\n",
            "43/43 [==============================] - 4s 104ms/step - loss: 0.5372 - accuracy: 0.8464 - val_loss: 0.4829 - val_accuracy: 0.8650\n",
            "Epoch 13/200\n",
            "43/43 [==============================] - 4s 103ms/step - loss: 0.5280 - accuracy: 0.8490 - val_loss: 0.4819 - val_accuracy: 0.8697\n",
            "Epoch 14/200\n",
            "43/43 [==============================] - 4s 103ms/step - loss: 0.5245 - accuracy: 0.8513 - val_loss: 0.4723 - val_accuracy: 0.8739\n",
            "Epoch 15/200\n",
            "43/43 [==============================] - 4s 103ms/step - loss: 0.5134 - accuracy: 0.8528 - val_loss: 0.4514 - val_accuracy: 0.8767\n",
            "Epoch 16/200\n",
            "43/43 [==============================] - 4s 103ms/step - loss: 0.5027 - accuracy: 0.8540 - val_loss: 0.4573 - val_accuracy: 0.8790\n",
            "Epoch 17/200\n",
            "43/43 [==============================] - 4s 103ms/step - loss: 0.4972 - accuracy: 0.8564 - val_loss: 0.4611 - val_accuracy: 0.8734\n",
            "Epoch 18/200\n",
            "43/43 [==============================] - 4s 102ms/step - loss: 0.4927 - accuracy: 0.8575 - val_loss: 0.4514 - val_accuracy: 0.8813\n",
            "Epoch 19/200\n",
            "43/43 [==============================] - 4s 103ms/step - loss: 0.4849 - accuracy: 0.8598 - val_loss: 0.4507 - val_accuracy: 0.8791\n",
            "Epoch 20/200\n",
            "43/43 [==============================] - 4s 103ms/step - loss: 0.4834 - accuracy: 0.8602 - val_loss: 0.4381 - val_accuracy: 0.8823\n",
            "Epoch 21/200\n",
            "43/43 [==============================] - 4s 103ms/step - loss: 0.4774 - accuracy: 0.8616 - val_loss: 0.4540 - val_accuracy: 0.8792\n",
            "Epoch 22/200\n",
            "43/43 [==============================] - 4s 103ms/step - loss: 0.4720 - accuracy: 0.8636 - val_loss: 0.4463 - val_accuracy: 0.8803\n",
            "Epoch 23/200\n",
            "43/43 [==============================] - 4s 103ms/step - loss: 0.4719 - accuracy: 0.8620 - val_loss: 0.4267 - val_accuracy: 0.8853\n",
            "Epoch 24/200\n",
            "43/43 [==============================] - 4s 103ms/step - loss: 0.4643 - accuracy: 0.8653 - val_loss: 0.4480 - val_accuracy: 0.8787\n",
            "Epoch 25/200\n",
            "43/43 [==============================] - 4s 103ms/step - loss: 0.4640 - accuracy: 0.8648 - val_loss: 0.4519 - val_accuracy: 0.8791\n",
            "Epoch 26/200\n",
            "43/43 [==============================] - 4s 103ms/step - loss: 0.4596 - accuracy: 0.8672 - val_loss: 0.4297 - val_accuracy: 0.8849\n",
            "Epoch 27/200\n",
            "43/43 [==============================] - 4s 104ms/step - loss: 0.4564 - accuracy: 0.8660 - val_loss: 0.4369 - val_accuracy: 0.8826\n",
            "Epoch 28/200\n",
            "43/43 [==============================] - 4s 103ms/step - loss: 0.4488 - accuracy: 0.8697 - val_loss: 0.4417 - val_accuracy: 0.8774\n",
            "Epoch 29/200\n",
            "43/43 [==============================] - 4s 103ms/step - loss: 0.4471 - accuracy: 0.8704 - val_loss: 0.4266 - val_accuracy: 0.8835\n",
            "Epoch 30/200\n",
            "43/43 [==============================] - 4s 103ms/step - loss: 0.4425 - accuracy: 0.8702 - val_loss: 0.4423 - val_accuracy: 0.8809\n",
            "Epoch 31/200\n",
            "43/43 [==============================] - 4s 103ms/step - loss: 0.4419 - accuracy: 0.8705 - val_loss: 0.4476 - val_accuracy: 0.8805\n",
            "Epoch 32/200\n",
            "43/43 [==============================] - 4s 103ms/step - loss: 0.4454 - accuracy: 0.8707 - val_loss: 0.4501 - val_accuracy: 0.8807\n",
            "Epoch 33/200\n",
            "43/43 [==============================] - 4s 103ms/step - loss: 0.4358 - accuracy: 0.8745 - val_loss: 0.4531 - val_accuracy: 0.8780\n",
            "Epoch 34/200\n",
            "43/43 [==============================] - 4s 103ms/step - loss: 0.4397 - accuracy: 0.8726 - val_loss: 0.4611 - val_accuracy: 0.8784\n",
            "Epoch 35/200\n",
            "43/43 [==============================] - 4s 103ms/step - loss: 0.4322 - accuracy: 0.8737 - val_loss: 0.4408 - val_accuracy: 0.8814\n",
            "Epoch 36/200\n",
            "43/43 [==============================] - 4s 103ms/step - loss: 0.4328 - accuracy: 0.8749 - val_loss: 0.4207 - val_accuracy: 0.8866\n",
            "Epoch 37/200\n",
            "43/43 [==============================] - 4s 103ms/step - loss: 0.4302 - accuracy: 0.8748 - val_loss: 0.4289 - val_accuracy: 0.8864\n",
            "Epoch 38/200\n",
            "43/43 [==============================] - 4s 103ms/step - loss: 0.4262 - accuracy: 0.8757 - val_loss: 0.4262 - val_accuracy: 0.8841\n",
            "Epoch 39/200\n",
            "43/43 [==============================] - 4s 103ms/step - loss: 0.4278 - accuracy: 0.8755 - val_loss: 0.4320 - val_accuracy: 0.8851\n",
            "Epoch 40/200\n",
            "43/43 [==============================] - 4s 103ms/step - loss: 0.4212 - accuracy: 0.8767 - val_loss: 0.4234 - val_accuracy: 0.8868\n",
            "Epoch 41/200\n",
            "43/43 [==============================] - 4s 103ms/step - loss: 0.4240 - accuracy: 0.8748 - val_loss: 0.4394 - val_accuracy: 0.8833\n",
            "Epoch 42/200\n",
            "43/43 [==============================] - 4s 103ms/step - loss: 0.4268 - accuracy: 0.8757 - val_loss: 0.4266 - val_accuracy: 0.8871\n",
            "Epoch 43/200\n",
            "43/43 [==============================] - 4s 103ms/step - loss: 0.4235 - accuracy: 0.8773 - val_loss: 0.4353 - val_accuracy: 0.8813\n",
            "Epoch 44/200\n",
            "43/43 [==============================] - 4s 103ms/step - loss: 0.4181 - accuracy: 0.8785 - val_loss: 0.4252 - val_accuracy: 0.8857\n",
            "Epoch 45/200\n",
            "43/43 [==============================] - 4s 103ms/step - loss: 0.4198 - accuracy: 0.8782 - val_loss: 0.4172 - val_accuracy: 0.8850\n",
            "Epoch 46/200\n",
            "43/43 [==============================] - 4s 103ms/step - loss: 0.4124 - accuracy: 0.8788 - val_loss: 0.4193 - val_accuracy: 0.8858\n",
            "Epoch 47/200\n",
            "43/43 [==============================] - 4s 103ms/step - loss: 0.4152 - accuracy: 0.8782 - val_loss: 0.4366 - val_accuracy: 0.8834\n",
            "Epoch 48/200\n",
            "43/43 [==============================] - 4s 103ms/step - loss: 0.4148 - accuracy: 0.8790 - val_loss: 0.4505 - val_accuracy: 0.8801\n",
            "Epoch 49/200\n",
            "43/43 [==============================] - 4s 103ms/step - loss: 0.4137 - accuracy: 0.8800 - val_loss: 0.4254 - val_accuracy: 0.8857\n",
            "Epoch 50/200\n",
            "43/43 [==============================] - 4s 103ms/step - loss: 0.4099 - accuracy: 0.8797 - val_loss: 0.4164 - val_accuracy: 0.8872\n",
            "Epoch 51/200\n",
            "43/43 [==============================] - 4s 103ms/step - loss: 0.4035 - accuracy: 0.8836 - val_loss: 0.4182 - val_accuracy: 0.8902\n",
            "Epoch 52/200\n",
            "43/43 [==============================] - 4s 103ms/step - loss: 0.4030 - accuracy: 0.8827 - val_loss: 0.4123 - val_accuracy: 0.8877\n",
            "Epoch 53/200\n",
            "43/43 [==============================] - 4s 103ms/step - loss: 0.3987 - accuracy: 0.8830 - val_loss: 0.4091 - val_accuracy: 0.8881\n",
            "Epoch 54/200\n",
            "43/43 [==============================] - 4s 103ms/step - loss: 0.3984 - accuracy: 0.8832 - val_loss: 0.4080 - val_accuracy: 0.8916\n",
            "Epoch 55/200\n",
            "43/43 [==============================] - 4s 104ms/step - loss: 0.3972 - accuracy: 0.8825 - val_loss: 0.4112 - val_accuracy: 0.8883\n",
            "Epoch 56/200\n",
            "43/43 [==============================] - 4s 104ms/step - loss: 0.3961 - accuracy: 0.8837 - val_loss: 0.4127 - val_accuracy: 0.8883\n",
            "Epoch 57/200\n",
            "43/43 [==============================] - 4s 104ms/step - loss: 0.3964 - accuracy: 0.8837 - val_loss: 0.4153 - val_accuracy: 0.8893\n",
            "Epoch 58/200\n",
            "43/43 [==============================] - 4s 103ms/step - loss: 0.3996 - accuracy: 0.8837 - val_loss: 0.4325 - val_accuracy: 0.8835\n",
            "Epoch 59/200\n",
            "43/43 [==============================] - 4s 103ms/step - loss: 0.3919 - accuracy: 0.8851 - val_loss: 0.4122 - val_accuracy: 0.8873\n",
            "Epoch 60/200\n",
            "43/43 [==============================] - 4s 103ms/step - loss: 0.3936 - accuracy: 0.8842 - val_loss: 0.4176 - val_accuracy: 0.8880\n",
            "Epoch 61/200\n",
            "43/43 [==============================] - 4s 103ms/step - loss: 0.3881 - accuracy: 0.8857 - val_loss: 0.4199 - val_accuracy: 0.8862\n",
            "Epoch 62/200\n",
            "43/43 [==============================] - 4s 102ms/step - loss: 0.3892 - accuracy: 0.8848 - val_loss: 0.4195 - val_accuracy: 0.8897\n",
            "Epoch 63/200\n",
            "43/43 [==============================] - 4s 103ms/step - loss: 0.3878 - accuracy: 0.8846 - val_loss: 0.4162 - val_accuracy: 0.8848\n",
            "Epoch 64/200\n",
            "43/43 [==============================] - 4s 104ms/step - loss: 0.3873 - accuracy: 0.8859 - val_loss: 0.4197 - val_accuracy: 0.8882\n"
          ]
        }
      ]
    },
    {
      "cell_type": "code",
      "metadata": {
        "colab": {
          "base_uri": "https://localhost:8080/",
          "height": 324
        },
        "id": "sr9J38R_f15d",
        "outputId": "4cb406b8-9dff-4692-e1ec-bf1a663024ad"
      },
      "source": [
        "pd.DataFrame(history.history).plot(figsize=(8,5))\n",
        "plt.grid(True)\n",
        "plt.ylim([0,1])\n",
        "plt.show()"
      ],
      "execution_count": 47,
      "outputs": [
        {
          "output_type": "display_data",
          "data": {
            "image/png": "[encoded data removed]",
            "text/plain": [
              "<Figure size 576x360 with 1 Axes>"
            ]
          },
          "metadata": {
            "needs_background": "light"
          }
        }
      ]
    },
    {
      "cell_type": "code",
      "metadata": {
        "colab": {
          "base_uri": "https://localhost:8080/"
        },
        "id": "XNhYhEWuv-M3",
        "outputId": "4164509a-7ee9-472d-d2e1-4655dec9b01e"
      },
      "source": [
        "feature_names = []\n",
        "for i in features:\n",
        "  feature_names.append(features[i])\n",
        "feature_names"
      ],
      "execution_count": 29,
      "outputs": [
        {
          "output_type": "execute_result",
          "data": {
            "text/plain": [
              "['0',\n",
              " '1',\n",
              " '2',\n",
              " '3',\n",
              " '4',\n",
              " '5',\n",
              " '6',\n",
              " '7',\n",
              " '8',\n",
              " '9',\n",
              " 'A',\n",
              " 'B',\n",
              " 'C',\n",
              " 'D',\n",
              " 'E',\n",
              " 'F',\n",
              " 'G',\n",
              " 'H',\n",
              " 'I',\n",
              " 'J',\n",
              " 'K',\n",
              " 'L',\n",
              " 'M',\n",
              " 'N',\n",
              " 'O',\n",
              " 'P',\n",
              " 'Q',\n",
              " 'R',\n",
              " 'S',\n",
              " 'T',\n",
              " 'U',\n",
              " 'V',\n",
              " 'W',\n",
              " 'X',\n",
              " 'Y',\n",
              " 'Z',\n",
              " 'a',\n",
              " 'b',\n",
              " 'd',\n",
              " 'e',\n",
              " 'f',\n",
              " 'g',\n",
              " 'h',\n",
              " 'n',\n",
              " 'q',\n",
              " 'r',\n",
              " 't']"
            ]
          },
          "metadata": {},
          "execution_count": 29
        }
      ]
    },
    {
      "cell_type": "code",
      "metadata": {
        "colab": {
          "base_uri": "https://localhost:8080/",
          "height": 1000
        },
        "id": "KOkok_U5i1nq",
        "outputId": "1ac75a68-d751-425f-b02e-73a2bcfd74b3"
      },
      "source": [
        "# make test predictions\n",
        "y_pred_test = model.predict(X_test)\n",
        "y_pred_test_classes = np.argmax(y_pred_test, axis=1)\n",
        "y_pred_test_max_probas = np.max(y_pred_test, axis=1)\n",
        "y_test_index = np.array([list(onehot).index(1) for onehot in y_test])\n",
        "\n",
        "# confusion matrix and accuracy\n",
        "from sklearn.metrics import confusion_matrix, accuracy_score\n",
        "plt.figure(figsize=(21, 18))\n",
        "plt.title('Confusion matrix', fontsize=16)\n",
        "plt.imshow(confusion_matrix(y_test_index, y_pred_test_classes))\n",
        "plt.xticks(np.arange(47), feature_names, rotation=45, fontsize=12)\n",
        "plt.yticks(np.arange(47), feature_names, fontsize=12)\n",
        "plt.colorbar()\n",
        "plt.show()\n",
        "print(\"Test accuracy:\", accuracy_score(y_test_index, y_pred_test_classes))"
      ],
      "execution_count": 48,
      "outputs": [
        {
          "output_type": "display_data",
          "data": {
            "image/png": "[encoded data removed]",
            "text/plain": [
              "<Figure size 1512x1296 with 2 Axes>"
            ]
          },
          "metadata": {
            "needs_background": "light"
          }
        },
        {
          "output_type": "stream",
          "name": "stdout",
          "text": [
            "Test accuracy: 0.8904255319148936\n"
          ]
        }
      ]
    }
  ]
}