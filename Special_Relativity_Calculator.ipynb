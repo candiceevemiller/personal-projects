{
  "nbformat": 4,
  "nbformat_minor": 0,
  "metadata": {
    "colab": {
      "name": "Special Relativity Calculator.ipynb",
      "provenance": [],
      "authorship_tag": "ABX9TyO/z5156qZPve0jwYdLFY2N",
      "include_colab_link": true
    },
    "kernelspec": {
      "name": "python3",
      "display_name": "Python 3"
    },
    "language_info": {
      "name": "python"
    }
  },
  "cells": [
    {
      "cell_type": "markdown",
      "metadata": {
        "id": "view-in-github",
        "colab_type": "text"
      },
      "source": [
        "<a href=\"https://colab.research.google.com/github/candiceevemiller/personal-projects/blob/main/Special_Relativity_Calculator.ipynb\" target=\"_parent\"><img src=\"https://colab.research.google.com/assets/colab-badge.svg\" alt=\"Open In Colab\"/></a>"
      ]
    },
    {
      "cell_type": "code",
      "execution_count": null,
      "metadata": {
        "id": "4hw2I3m0_pUK"
      },
      "outputs": [],
      "source": [
        "from math import sqrt\n",
        "\n",
        "c = 3e8 #speed of light ignoring all caps constant rules for consistency with formulae\n",
        "\n",
        "# 1-d motion assumption for the following, since a coordinate rotation plus\n",
        "# a boost will cover all 1-d motion cases\n",
        "def beta_gamma(v):\n",
        "  '''Takes a velocity v and returns beta and gamma in that order for that v'''\n",
        "  beta = v/c\n",
        "  gamma = 1/sqrt(1-beta)\n",
        "  return beta, gamma\n",
        "\n",
        "def boost(t,x,v):\n",
        "  '''Takes position and time coordinates (t,x), a relative velocity v and\n",
        "  performs a lorentz boost on them and outputs t_prime and x_prime in that order'''\n",
        "  beta, gamma = beta_gamma(v)\n",
        "  t_prime = gamma*(t-(beta*x/c))\n",
        "  x_prime = gamma*(x-(v*t))\n",
        "  return t_prime, x_prime\n",
        "\n",
        "def time_dilation(delta_t,v):\n",
        "  '''Takes a time interval delta_t (rest time) and relative velocity v and\n",
        "  returns delta_t_prime (time measured in frame where clock is moving)'''\n",
        "  beta, gamma = beta_gamma(v)\n",
        "  delta_t_prime = gamma*delta_t\n",
        "  return delta_t_prime\n",
        "\n",
        "def length_contraction(delta_x,v):\n",
        "  '''Takes a rest length delta_x and relative velocity v (in same direction) and\n",
        "  returns the length in the frame where the object is moving'''\n",
        "  beta, gamma = beta_gamma(v)\n",
        "  delta_x_prime = delta_x/gamma\n",
        "  return delta_x_prime\n",
        "\n",
        "def velocity_composition(v_ab, v_bc):\n",
        "  '''Takes velocity of observer b relative to observer a, v_ab, and velocity of\n",
        "  observer c relative to b, v_bc, and returns velocity of observer c relative to\n",
        "  observer a, v_ac'''\n",
        "  v_ac  = (v_ab + v_bc) / (1+v_ab*v_bc)\n",
        "  return v_ac"
      ]
    }
  ]
}