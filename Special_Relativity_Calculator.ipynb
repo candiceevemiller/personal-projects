{
  "nbformat": 4,
  "nbformat_minor": 0,
  "metadata": {
    "colab": {
      "name": "Special Relativity Calculator.ipynb",
      "provenance": [],
      "collapsed_sections": [],
      "authorship_tag": "ABX9TyOTq1+B7vRqt+sP/CH8yhz0",
      "include_colab_link": true
    },
    "kernelspec": {
      "name": "python3",
      "display_name": "Python 3"
    },
    "language_info": {
      "name": "python"
    }
  },
  "cells": [
    {
      "cell_type": "markdown",
      "metadata": {
        "id": "view-in-github",
        "colab_type": "text"
      },
      "source": [
        "<a href=\"https://colab.research.google.com/github/candiceevemiller/personal-projects/blob/main/Special_Relativity_Calculator.ipynb\" target=\"_parent\"><img src=\"https://colab.research.google.com/assets/colab-badge.svg\" alt=\"Open In Colab\"/></a>"
      ]
    },
    {
      "cell_type": "code",
      "execution_count": null,
      "metadata": {
        "id": "4hw2I3m0_pUK"
      },
      "outputs": [],
      "source": [
        "from math import sqrt\n",
        "\n",
        "c = 3e8 #speed of light (m/s)\n",
        "\n",
        "# 1-d motion assumption for the following, since a coordinate rotation plus\n",
        "# a boost will cover all 1-d motion cases\n",
        "def beta_gamma(v: float) -> tuple[float, float]:\n",
        "  r'''\n",
        "  Takes a velocity v (m/s) and returns beta and gamma for that v\n",
        "  '''\n",
        "  beta = v/c  # unitless\n",
        "  gamma = 1/sqrt(1-beta**2)  # unitless\n",
        "  return beta, gamma\n",
        "\n",
        "def boost(t: float,x: float,v: float) -> tuple[float, float]:\n",
        "  r'''\n",
        "  Takes position and time coordinates (t: seconds,x: meters), a relative\n",
        "  velocity v (m/s) and performs a lorentz boost on them and outputs t_prime\n",
        "  and x_prime (seconds, meters respectively)\n",
        "  '''\n",
        "  beta, gamma = beta_gamma(v)\n",
        "  t_prime = gamma*(t-(v*x/c**2))\n",
        "  x_prime = gamma*(x-(v*t))\n",
        "  return t_prime, x_prime\n",
        "\n",
        "def time_dilation(delta_t: float,v: float) -> float:\n",
        "  r'''\n",
        "  Takes a time interval delta_t (rest time, seconds) and relative velocity v\n",
        "  (m/s) and returns delta_t_prime (s) (time measured in frame where\n",
        "  clock is moving)\n",
        "  '''\n",
        "  beta, gamma = beta_gamma(v)\n",
        "  delta_t_prime = gamma*delta_t\n",
        "  return delta_t_prime\n",
        "\n",
        "def length_contraction(delta_x: float,v: float) -> float:\n",
        "  r'''\n",
        "  Takes a rest length delta_x (m) and relative velocity v (s)\n",
        "  (in same direction) and returns the length in the frame where the\n",
        "  object is moving\n",
        "  '''\n",
        "  beta, gamma = beta_gamma(v)\n",
        "  delta_x_prime = delta_x/gamma\n",
        "  return delta_x_prime\n",
        "\n",
        "def velocity_composition(v_ab: float, v_bc: float) -> float:\n",
        "  r'''\n",
        "  Takes velocity of observer b relative to observer a, v_ab (m/s), and\n",
        "  velocity of observer c relative to b, v_bc (m/s), and returns velocity of\n",
        "  observer c relative to observer a, v_ac (m/s)\n",
        "  '''\n",
        "  v_ac  = (v_ab + v_bc) / (1+(v_ab*v_bc/c**2))\n",
        "  return v_ac"
      ]
    },
    {
      "cell_type": "code",
      "source": [
        "boost(0,50000,.5*c)"
      ],
      "metadata": {
        "colab": {
          "base_uri": "https://localhost:8080/"
        },
        "id": "8fEmR4sXFtfq",
        "outputId": "bbcc407c-f8db-4683-f78e-770dda00c8ff"
      },
      "execution_count": null,
      "outputs": [
        {
          "output_type": "execute_result",
          "data": {
            "text/plain": [
              "(-9.622504486493763e-05, 57735.02691896258)"
            ]
          },
          "metadata": {},
          "execution_count": 24
        }
      ]
    },
    {
      "cell_type": "code",
      "source": [
        "time_dilation(3, .5*c)"
      ],
      "metadata": {
        "colab": {
          "base_uri": "https://localhost:8080/"
        },
        "id": "P4_i_SECIZuX",
        "outputId": "31dcd31d-035d-4d4e-ece7-99bf4aab8c4d"
      },
      "execution_count": null,
      "outputs": [
        {
          "output_type": "execute_result",
          "data": {
            "text/plain": [
              "3.4641016151377553"
            ]
          },
          "metadata": {},
          "execution_count": 25
        }
      ]
    },
    {
      "cell_type": "code",
      "source": [
        "length_contraction(10, .5*c)"
      ],
      "metadata": {
        "colab": {
          "base_uri": "https://localhost:8080/"
        },
        "id": "UsuS7BEXIjK5",
        "outputId": "a4292e11-af91-4821-8121-f3432765c77e"
      },
      "execution_count": null,
      "outputs": [
        {
          "output_type": "execute_result",
          "data": {
            "text/plain": [
              "8.660254037844386"
            ]
          },
          "metadata": {},
          "execution_count": 26
        }
      ]
    },
    {
      "cell_type": "code",
      "source": [
        "velocity_composition(10, 10)"
      ],
      "metadata": {
        "colab": {
          "base_uri": "https://localhost:8080/"
        },
        "id": "aRAnuWJtIqfy",
        "outputId": "7108582f-1803-4c5e-958a-9553bb9a011e"
      },
      "execution_count": null,
      "outputs": [
        {
          "output_type": "execute_result",
          "data": {
            "text/plain": [
              "19.99999999999998"
            ]
          },
          "metadata": {},
          "execution_count": 27
        }
      ]
    },
    {
      "cell_type": "code",
      "source": [
        "velocity_composition(.99*c, .99*c)"
      ],
      "metadata": {
        "colab": {
          "base_uri": "https://localhost:8080/"
        },
        "id": "3U3KEYC9JgDS",
        "outputId": "9c047204-49b2-46df-e580-c98df9088760"
      },
      "execution_count": null,
      "outputs": [
        {
          "output_type": "execute_result",
          "data": {
            "text/plain": [
              "299984849.2500379"
            ]
          },
          "metadata": {},
          "execution_count": 28
        }
      ]
    }
  ]
}